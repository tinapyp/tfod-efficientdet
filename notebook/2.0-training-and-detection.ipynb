{
 "cells": [
  {
   "cell_type": "markdown",
   "metadata": {
    "id": "QUANWN3rpfC9"
   },
   "source": [
    "# Setup Paths"
   ]
  },
  {
   "cell_type": "code",
   "execution_count": 2,
   "metadata": {
    "id": "146BB11JpfDA"
   },
   "outputs": [],
   "source": [
    "import os"
   ]
  },
  {
   "cell_type": "code",
   "execution_count": 3,
   "metadata": {
    "id": "42hJEdo_pfDB"
   },
   "outputs": [],
   "source": [
    "CUSTOM_MODEL_NAME = 'tuned-model' \n",
    "PRETRAINED_MODEL_NAME = 'efficientdet_d0_coco17_tpu-32'\n",
    "PRETRAINED_MODEL_URL = 'http://download.tensorflow.org/models/object_detection/tf2/20200711/efficientdet_d0_coco17_tpu-32.tar.gz' #tf-zoo\n",
    "TF_RECORD_SCRIPT_NAME = 'generate_tfrecord.py'\n",
    "LABEL_MAP_NAME = 'label_map.pbtxt'"
   ]
  },
  {
   "cell_type": "code",
   "execution_count": 22,
   "metadata": {
    "id": "hbPhYVy_pfDB"
   },
   "outputs": [],
   "source": [
    "paths = {\n",
    "    'WORKSPACE_PATH': '../',\n",
    "    'SCRIPTS_PATH': '../src',\n",
    "    'APIMODEL_PATH': '../src/models',\n",
    "    'ANNOTATION_PATH': '../src/annotations',\n",
    "    'IMAGE_PATH': '../data/processed',\n",
    "    'MODEL_PATH': '../models',\n",
    "    'PRETRAINED_MODEL_PATH': '../models/pre-trained-models',\n",
    "    'CHECKPOINT_PATH': os.path.join('../models',CUSTOM_MODEL_NAME), \n",
    "    'OUTPUT_PATH': os.path.join('../models',CUSTOM_MODEL_NAME, 'export'), \n",
    " }"
   ]
  },
  {
   "cell_type": "code",
   "execution_count": 23,
   "metadata": {
    "id": "LwhWZMI0pfDC"
   },
   "outputs": [],
   "source": [
    "files = {\n",
    "    'PIPELINE_CONFIG':os.path.join('../models', CUSTOM_MODEL_NAME, 'pipeline.config'),\n",
    "    'TF_RECORD_SCRIPT': os.path.join(paths['SCRIPTS_PATH'], TF_RECORD_SCRIPT_NAME), \n",
    "    'LABELMAP': os.path.join(paths['ANNOTATION_PATH'], LABEL_MAP_NAME)\n",
    "}"
   ]
  },
  {
   "cell_type": "code",
   "execution_count": 24,
   "metadata": {
    "id": "HR-TfDGrpfDC"
   },
   "outputs": [],
   "source": [
    "for path in paths.values():\n",
    "    if not os.path.exists(path):\n",
    "        if os.name == 'posix':\n",
    "            !mkdir -p {path}\n",
    "        if os.name == 'nt':\n",
    "            !mkdir {path}"
   ]
  },
  {
   "cell_type": "markdown",
   "metadata": {
    "id": "OLU-rs_ipfDE"
   },
   "source": [
    "# 1. Download TF Models Pretrained Models from Tensorflow Model Zoo and Install TFOD"
   ]
  },
  {
   "cell_type": "code",
   "execution_count": null,
   "metadata": {
    "id": "iA1DIq5OpfDE"
   },
   "outputs": [],
   "source": [
    "if not os.path.exists(os.path.join(paths['APIMODEL_PATH'], 'research', 'object_detection')):\n",
    "    !git clone https://github.com/tensorflow/models {paths['APIMODEL_PATH']}"
   ]
  },
  {
   "cell_type": "code",
   "execution_count": 7,
   "metadata": {
    "id": "rJjMHbnDs3Tv"
   },
   "outputs": [],
   "source": [
    "# Install Tensorflow Object Detection\n",
    "## pacman for arch linux or apt-get for ubuntu or debian\n",
    "\n",
    "# !pacman -S protobuf\n",
    "# !apt-get install protobuf-compiler \n",
    "!cd Tensorflow/models/research && protoc object_detection/protos/*.proto --python_out=. && cp object_detection/packages/tf2/setup.py . && python -m pip install -q . "
   ]
  },
  {
   "cell_type": "code",
   "execution_count": 19,
   "metadata": {
    "scrolled": true
   },
   "outputs": [
    {
     "name": "stdout",
     "output_type": "stream",
     "text": [
      "2024-05-25 10:30:10.876009: I tensorflow/tsl/cuda/cudart_stub.cc:28] Could not find cuda drivers on your machine, GPU will not be used.\n",
      "2024-05-25 10:30:10.906597: I tensorflow/tsl/cuda/cudart_stub.cc:28] Could not find cuda drivers on your machine, GPU will not be used.\n",
      "2024-05-25 10:30:10.907019: I tensorflow/core/platform/cpu_feature_guard.cc:182] This TensorFlow binary is optimized to use available CPU instructions in performance-critical operations.\n",
      "To enable the following instructions: AVX2 FMA, in other operations, rebuild TensorFlow with the appropriate compiler flags.\n",
      "2024-05-25 10:30:11.609162: W tensorflow/compiler/tf2tensorrt/utils/py_utils.cc:38] TF-TRT Warning: Could not find TensorRT\n",
      "Running tests under Python 3.10.0: /home/tinapyp/Dependencies/miniconda3/envs/tfod/bin/python\n",
      "[ RUN      ] ModelBuilderTF2Test.test_create_center_net_deepmac\n",
      "WARNING:tensorflow:`tf.keras.layers.experimental.SyncBatchNormalization` endpoint is deprecated and will be removed in a future release. Please use `tf.keras.layers.BatchNormalization` with parameter `synchronized` set to True.\n",
      "W0525 10:30:13.152276 125022409188544 batch_normalization.py:1531] `tf.keras.layers.experimental.SyncBatchNormalization` endpoint is deprecated and will be removed in a future release. Please use `tf.keras.layers.BatchNormalization` with parameter `synchronized` set to True.\n",
      "/home/tinapyp/Dependencies/miniconda3/envs/tfod/lib/python3.10/site-packages/object_detection/builders/model_builder.py:1112: DeprecationWarning: The 'warn' function is deprecated, use 'warning' instead\n",
      "  logging.warn(('Building experimental DeepMAC meta-arch.'\n",
      "W0525 10:30:13.335103 125022409188544 model_builder.py:1112] Building experimental DeepMAC meta-arch. Some features may be omitted.\n",
      "INFO:tensorflow:time(__main__.ModelBuilderTF2Test.test_create_center_net_deepmac): 0.41s\n",
      "I0525 10:30:13.538062 125022409188544 test_util.py:2462] time(__main__.ModelBuilderTF2Test.test_create_center_net_deepmac): 0.41s\n",
      "[       OK ] ModelBuilderTF2Test.test_create_center_net_deepmac\n",
      "[ RUN      ] ModelBuilderTF2Test.test_create_center_net_model0 (customize_head_params=True)\n",
      "INFO:tensorflow:time(__main__.ModelBuilderTF2Test.test_create_center_net_model0 (customize_head_params=True)): 0.6s\n",
      "I0525 10:30:14.142591 125022409188544 test_util.py:2462] time(__main__.ModelBuilderTF2Test.test_create_center_net_model0 (customize_head_params=True)): 0.6s\n",
      "[       OK ] ModelBuilderTF2Test.test_create_center_net_model0 (customize_head_params=True)\n",
      "[ RUN      ] ModelBuilderTF2Test.test_create_center_net_model1 (customize_head_params=False)\n",
      "INFO:tensorflow:time(__main__.ModelBuilderTF2Test.test_create_center_net_model1 (customize_head_params=False)): 0.22s\n",
      "I0525 10:30:14.358777 125022409188544 test_util.py:2462] time(__main__.ModelBuilderTF2Test.test_create_center_net_model1 (customize_head_params=False)): 0.22s\n",
      "[       OK ] ModelBuilderTF2Test.test_create_center_net_model1 (customize_head_params=False)\n",
      "[ RUN      ] ModelBuilderTF2Test.test_create_center_net_model_from_keypoints\n",
      "INFO:tensorflow:time(__main__.ModelBuilderTF2Test.test_create_center_net_model_from_keypoints): 0.19s\n",
      "I0525 10:30:14.550787 125022409188544 test_util.py:2462] time(__main__.ModelBuilderTF2Test.test_create_center_net_model_from_keypoints): 0.19s\n",
      "[       OK ] ModelBuilderTF2Test.test_create_center_net_model_from_keypoints\n",
      "[ RUN      ] ModelBuilderTF2Test.test_create_center_net_model_mobilenet\n",
      "INFO:tensorflow:time(__main__.ModelBuilderTF2Test.test_create_center_net_model_mobilenet): 1.39s\n",
      "I0525 10:30:15.938214 125022409188544 test_util.py:2462] time(__main__.ModelBuilderTF2Test.test_create_center_net_model_mobilenet): 1.39s\n",
      "[       OK ] ModelBuilderTF2Test.test_create_center_net_model_mobilenet\n",
      "[ RUN      ] ModelBuilderTF2Test.test_create_experimental_model\n",
      "INFO:tensorflow:time(__main__.ModelBuilderTF2Test.test_create_experimental_model): 0.0s\n",
      "I0525 10:30:15.943533 125022409188544 test_util.py:2462] time(__main__.ModelBuilderTF2Test.test_create_experimental_model): 0.0s\n",
      "[       OK ] ModelBuilderTF2Test.test_create_experimental_model\n",
      "[ RUN      ] ModelBuilderTF2Test.test_create_faster_rcnn_from_config_with_crop_feature0 (True)\n",
      "INFO:tensorflow:time(__main__.ModelBuilderTF2Test.test_create_faster_rcnn_from_config_with_crop_feature0 (True)): 0.02s\n",
      "I0525 10:30:15.962475 125022409188544 test_util.py:2462] time(__main__.ModelBuilderTF2Test.test_create_faster_rcnn_from_config_with_crop_feature0 (True)): 0.02s\n",
      "[       OK ] ModelBuilderTF2Test.test_create_faster_rcnn_from_config_with_crop_feature0 (True)\n",
      "[ RUN      ] ModelBuilderTF2Test.test_create_faster_rcnn_from_config_with_crop_feature1 (False)\n",
      "INFO:tensorflow:time(__main__.ModelBuilderTF2Test.test_create_faster_rcnn_from_config_with_crop_feature1 (False)): 0.01s\n",
      "I0525 10:30:15.974328 125022409188544 test_util.py:2462] time(__main__.ModelBuilderTF2Test.test_create_faster_rcnn_from_config_with_crop_feature1 (False)): 0.01s\n",
      "[       OK ] ModelBuilderTF2Test.test_create_faster_rcnn_from_config_with_crop_feature1 (False)\n",
      "[ RUN      ] ModelBuilderTF2Test.test_create_faster_rcnn_model_from_config_with_example_miner\n",
      "INFO:tensorflow:time(__main__.ModelBuilderTF2Test.test_create_faster_rcnn_model_from_config_with_example_miner): 0.01s\n",
      "I0525 10:30:15.986916 125022409188544 test_util.py:2462] time(__main__.ModelBuilderTF2Test.test_create_faster_rcnn_model_from_config_with_example_miner): 0.01s\n",
      "[       OK ] ModelBuilderTF2Test.test_create_faster_rcnn_model_from_config_with_example_miner\n",
      "[ RUN      ] ModelBuilderTF2Test.test_create_faster_rcnn_models_from_config_faster_rcnn_with_matmul\n",
      "INFO:tensorflow:time(__main__.ModelBuilderTF2Test.test_create_faster_rcnn_models_from_config_faster_rcnn_with_matmul): 0.08s\n",
      "I0525 10:30:16.066306 125022409188544 test_util.py:2462] time(__main__.ModelBuilderTF2Test.test_create_faster_rcnn_models_from_config_faster_rcnn_with_matmul): 0.08s\n",
      "[       OK ] ModelBuilderTF2Test.test_create_faster_rcnn_models_from_config_faster_rcnn_with_matmul\n",
      "[ RUN      ] ModelBuilderTF2Test.test_create_faster_rcnn_models_from_config_faster_rcnn_without_matmul\n",
      "INFO:tensorflow:time(__main__.ModelBuilderTF2Test.test_create_faster_rcnn_models_from_config_faster_rcnn_without_matmul): 0.24s\n",
      "I0525 10:30:16.303930 125022409188544 test_util.py:2462] time(__main__.ModelBuilderTF2Test.test_create_faster_rcnn_models_from_config_faster_rcnn_without_matmul): 0.24s\n",
      "[       OK ] ModelBuilderTF2Test.test_create_faster_rcnn_models_from_config_faster_rcnn_without_matmul\n",
      "[ RUN      ] ModelBuilderTF2Test.test_create_faster_rcnn_models_from_config_mask_rcnn_with_matmul\n",
      "INFO:tensorflow:time(__main__.ModelBuilderTF2Test.test_create_faster_rcnn_models_from_config_mask_rcnn_with_matmul): 0.07s\n",
      "I0525 10:30:16.377331 125022409188544 test_util.py:2462] time(__main__.ModelBuilderTF2Test.test_create_faster_rcnn_models_from_config_mask_rcnn_with_matmul): 0.07s\n",
      "[       OK ] ModelBuilderTF2Test.test_create_faster_rcnn_models_from_config_mask_rcnn_with_matmul\n",
      "[ RUN      ] ModelBuilderTF2Test.test_create_faster_rcnn_models_from_config_mask_rcnn_without_matmul\n",
      "INFO:tensorflow:time(__main__.ModelBuilderTF2Test.test_create_faster_rcnn_models_from_config_mask_rcnn_without_matmul): 0.07s\n",
      "I0525 10:30:16.452475 125022409188544 test_util.py:2462] time(__main__.ModelBuilderTF2Test.test_create_faster_rcnn_models_from_config_mask_rcnn_without_matmul): 0.07s\n",
      "[       OK ] ModelBuilderTF2Test.test_create_faster_rcnn_models_from_config_mask_rcnn_without_matmul\n",
      "[ RUN      ] ModelBuilderTF2Test.test_create_rfcn_model_from_config\n",
      "INFO:tensorflow:time(__main__.ModelBuilderTF2Test.test_create_rfcn_model_from_config): 0.08s\n",
      "I0525 10:30:16.528664 125022409188544 test_util.py:2462] time(__main__.ModelBuilderTF2Test.test_create_rfcn_model_from_config): 0.08s\n",
      "[       OK ] ModelBuilderTF2Test.test_create_rfcn_model_from_config\n",
      "[ RUN      ] ModelBuilderTF2Test.test_create_ssd_fpn_model_from_config\n",
      "INFO:tensorflow:time(__main__.ModelBuilderTF2Test.test_create_ssd_fpn_model_from_config): 0.02s\n",
      "I0525 10:30:16.553883 125022409188544 test_util.py:2462] time(__main__.ModelBuilderTF2Test.test_create_ssd_fpn_model_from_config): 0.02s\n",
      "[       OK ] ModelBuilderTF2Test.test_create_ssd_fpn_model_from_config\n",
      "[ RUN      ] ModelBuilderTF2Test.test_create_ssd_models_from_config\n",
      "I0525 10:30:16.683529 125022409188544 ssd_efficientnet_bifpn_feature_extractor.py:161] EfficientDet EfficientNet backbone version: efficientnet-b0\n",
      "I0525 10:30:16.683646 125022409188544 ssd_efficientnet_bifpn_feature_extractor.py:163] EfficientDet BiFPN num filters: 64\n",
      "I0525 10:30:16.683687 125022409188544 ssd_efficientnet_bifpn_feature_extractor.py:164] EfficientDet BiFPN num iterations: 3\n",
      "I0525 10:30:16.685957 125022409188544 efficientnet_model.py:143] round_filter input=32 output=32\n",
      "I0525 10:30:16.704249 125022409188544 efficientnet_model.py:143] round_filter input=32 output=32\n",
      "I0525 10:30:16.704360 125022409188544 efficientnet_model.py:143] round_filter input=16 output=16\n",
      "I0525 10:30:16.756555 125022409188544 efficientnet_model.py:143] round_filter input=16 output=16\n",
      "I0525 10:30:16.756672 125022409188544 efficientnet_model.py:143] round_filter input=24 output=24\n",
      "I0525 10:30:16.886518 125022409188544 efficientnet_model.py:143] round_filter input=24 output=24\n",
      "I0525 10:30:16.886634 125022409188544 efficientnet_model.py:143] round_filter input=40 output=40\n",
      "I0525 10:30:17.005685 125022409188544 efficientnet_model.py:143] round_filter input=40 output=40\n",
      "I0525 10:30:17.005801 125022409188544 efficientnet_model.py:143] round_filter input=80 output=80\n",
      "I0525 10:30:17.180497 125022409188544 efficientnet_model.py:143] round_filter input=80 output=80\n",
      "I0525 10:30:17.180621 125022409188544 efficientnet_model.py:143] round_filter input=112 output=112\n",
      "I0525 10:30:17.354525 125022409188544 efficientnet_model.py:143] round_filter input=112 output=112\n",
      "I0525 10:30:17.354643 125022409188544 efficientnet_model.py:143] round_filter input=192 output=192\n",
      "I0525 10:30:17.591185 125022409188544 efficientnet_model.py:143] round_filter input=192 output=192\n",
      "I0525 10:30:17.591316 125022409188544 efficientnet_model.py:143] round_filter input=320 output=320\n",
      "I0525 10:30:17.651954 125022409188544 efficientnet_model.py:143] round_filter input=1280 output=1280\n",
      "I0525 10:30:17.690416 125022409188544 efficientnet_model.py:453] Building model efficientnet with params ModelConfig(width_coefficient=1.0, depth_coefficient=1.0, resolution=224, dropout_rate=0.2, blocks=(BlockConfig(input_filters=32, output_filters=16, kernel_size=3, num_repeat=1, expand_ratio=1, strides=(1, 1), se_ratio=0.25, id_skip=True, fused_conv=False, conv_type='depthwise'), BlockConfig(input_filters=16, output_filters=24, kernel_size=3, num_repeat=2, expand_ratio=6, strides=(2, 2), se_ratio=0.25, id_skip=True, fused_conv=False, conv_type='depthwise'), BlockConfig(input_filters=24, output_filters=40, kernel_size=5, num_repeat=2, expand_ratio=6, strides=(2, 2), se_ratio=0.25, id_skip=True, fused_conv=False, conv_type='depthwise'), BlockConfig(input_filters=40, output_filters=80, kernel_size=3, num_repeat=3, expand_ratio=6, strides=(2, 2), se_ratio=0.25, id_skip=True, fused_conv=False, conv_type='depthwise'), BlockConfig(input_filters=80, output_filters=112, kernel_size=5, num_repeat=3, expand_ratio=6, strides=(1, 1), se_ratio=0.25, id_skip=True, fused_conv=False, conv_type='depthwise'), BlockConfig(input_filters=112, output_filters=192, kernel_size=5, num_repeat=4, expand_ratio=6, strides=(2, 2), se_ratio=0.25, id_skip=True, fused_conv=False, conv_type='depthwise'), BlockConfig(input_filters=192, output_filters=320, kernel_size=3, num_repeat=1, expand_ratio=6, strides=(1, 1), se_ratio=0.25, id_skip=True, fused_conv=False, conv_type='depthwise')), stem_base_filters=32, top_base_filters=1280, activation='simple_swish', batch_norm='default', bn_momentum=0.99, bn_epsilon=0.001, weight_decay=5e-06, drop_connect_rate=0.2, depth_divisor=8, min_depth=None, use_se=True, input_channels=3, num_classes=1000, model_name='efficientnet', rescale_input=False, data_format='channels_last', dtype='float32')\n",
      "I0525 10:30:17.727419 125022409188544 ssd_efficientnet_bifpn_feature_extractor.py:161] EfficientDet EfficientNet backbone version: efficientnet-b1\n",
      "I0525 10:30:17.727547 125022409188544 ssd_efficientnet_bifpn_feature_extractor.py:163] EfficientDet BiFPN num filters: 88\n",
      "I0525 10:30:17.727582 125022409188544 ssd_efficientnet_bifpn_feature_extractor.py:164] EfficientDet BiFPN num iterations: 4\n",
      "I0525 10:30:17.728977 125022409188544 efficientnet_model.py:143] round_filter input=32 output=32\n",
      "I0525 10:30:17.741012 125022409188544 efficientnet_model.py:143] round_filter input=32 output=32\n",
      "I0525 10:30:17.741136 125022409188544 efficientnet_model.py:143] round_filter input=16 output=16\n",
      "I0525 10:30:17.839887 125022409188544 efficientnet_model.py:143] round_filter input=16 output=16\n",
      "I0525 10:30:17.840013 125022409188544 efficientnet_model.py:143] round_filter input=24 output=24\n",
      "I0525 10:30:18.001776 125022409188544 efficientnet_model.py:143] round_filter input=24 output=24\n",
      "I0525 10:30:18.001894 125022409188544 efficientnet_model.py:143] round_filter input=40 output=40\n",
      "I0525 10:30:18.166354 125022409188544 efficientnet_model.py:143] round_filter input=40 output=40\n",
      "I0525 10:30:18.166465 125022409188544 efficientnet_model.py:143] round_filter input=80 output=80\n",
      "I0525 10:30:18.390246 125022409188544 efficientnet_model.py:143] round_filter input=80 output=80\n",
      "I0525 10:30:18.390364 125022409188544 efficientnet_model.py:143] round_filter input=112 output=112\n",
      "I0525 10:30:18.631227 125022409188544 efficientnet_model.py:143] round_filter input=112 output=112\n",
      "I0525 10:30:18.631344 125022409188544 efficientnet_model.py:143] round_filter input=192 output=192\n",
      "I0525 10:30:18.919225 125022409188544 efficientnet_model.py:143] round_filter input=192 output=192\n",
      "I0525 10:30:18.919346 125022409188544 efficientnet_model.py:143] round_filter input=320 output=320\n",
      "I0525 10:30:19.055536 125022409188544 efficientnet_model.py:143] round_filter input=1280 output=1280\n",
      "I0525 10:30:19.090645 125022409188544 efficientnet_model.py:453] Building model efficientnet with params ModelConfig(width_coefficient=1.0, depth_coefficient=1.1, resolution=240, dropout_rate=0.2, blocks=(BlockConfig(input_filters=32, output_filters=16, kernel_size=3, num_repeat=1, expand_ratio=1, strides=(1, 1), se_ratio=0.25, id_skip=True, fused_conv=False, conv_type='depthwise'), BlockConfig(input_filters=16, output_filters=24, kernel_size=3, num_repeat=2, expand_ratio=6, strides=(2, 2), se_ratio=0.25, id_skip=True, fused_conv=False, conv_type='depthwise'), BlockConfig(input_filters=24, output_filters=40, kernel_size=5, num_repeat=2, expand_ratio=6, strides=(2, 2), se_ratio=0.25, id_skip=True, fused_conv=False, conv_type='depthwise'), BlockConfig(input_filters=40, output_filters=80, kernel_size=3, num_repeat=3, expand_ratio=6, strides=(2, 2), se_ratio=0.25, id_skip=True, fused_conv=False, conv_type='depthwise'), BlockConfig(input_filters=80, output_filters=112, kernel_size=5, num_repeat=3, expand_ratio=6, strides=(1, 1), se_ratio=0.25, id_skip=True, fused_conv=False, conv_type='depthwise'), BlockConfig(input_filters=112, output_filters=192, kernel_size=5, num_repeat=4, expand_ratio=6, strides=(2, 2), se_ratio=0.25, id_skip=True, fused_conv=False, conv_type='depthwise'), BlockConfig(input_filters=192, output_filters=320, kernel_size=3, num_repeat=1, expand_ratio=6, strides=(1, 1), se_ratio=0.25, id_skip=True, fused_conv=False, conv_type='depthwise')), stem_base_filters=32, top_base_filters=1280, activation='simple_swish', batch_norm='default', bn_momentum=0.99, bn_epsilon=0.001, weight_decay=5e-06, drop_connect_rate=0.2, depth_divisor=8, min_depth=None, use_se=True, input_channels=3, num_classes=1000, model_name='efficientnet', rescale_input=False, data_format='channels_last', dtype='float32')\n",
      "I0525 10:30:19.138398 125022409188544 ssd_efficientnet_bifpn_feature_extractor.py:161] EfficientDet EfficientNet backbone version: efficientnet-b2\n",
      "I0525 10:30:19.138516 125022409188544 ssd_efficientnet_bifpn_feature_extractor.py:163] EfficientDet BiFPN num filters: 112\n",
      "I0525 10:30:19.138556 125022409188544 ssd_efficientnet_bifpn_feature_extractor.py:164] EfficientDet BiFPN num iterations: 5\n",
      "I0525 10:30:19.139817 125022409188544 efficientnet_model.py:143] round_filter input=32 output=32\n",
      "I0525 10:30:19.153029 125022409188544 efficientnet_model.py:143] round_filter input=32 output=32\n",
      "I0525 10:30:19.153143 125022409188544 efficientnet_model.py:143] round_filter input=16 output=16\n",
      "I0525 10:30:19.247517 125022409188544 efficientnet_model.py:143] round_filter input=16 output=16\n",
      "I0525 10:30:19.247631 125022409188544 efficientnet_model.py:143] round_filter input=24 output=24\n",
      "I0525 10:30:19.416008 125022409188544 efficientnet_model.py:143] round_filter input=24 output=24\n",
      "I0525 10:30:19.416127 125022409188544 efficientnet_model.py:143] round_filter input=40 output=48\n",
      "I0525 10:30:19.603303 125022409188544 efficientnet_model.py:143] round_filter input=40 output=48\n",
      "I0525 10:30:19.603435 125022409188544 efficientnet_model.py:143] round_filter input=80 output=88\n",
      "I0525 10:30:20.059300 125022409188544 efficientnet_model.py:143] round_filter input=80 output=88\n",
      "I0525 10:30:20.059415 125022409188544 efficientnet_model.py:143] round_filter input=112 output=120\n",
      "I0525 10:30:20.311767 125022409188544 efficientnet_model.py:143] round_filter input=112 output=120\n",
      "I0525 10:30:20.311882 125022409188544 efficientnet_model.py:143] round_filter input=192 output=208\n",
      "I0525 10:30:20.621455 125022409188544 efficientnet_model.py:143] round_filter input=192 output=208\n",
      "I0525 10:30:20.621571 125022409188544 efficientnet_model.py:143] round_filter input=320 output=352\n",
      "I0525 10:30:20.761524 125022409188544 efficientnet_model.py:143] round_filter input=1280 output=1408\n",
      "I0525 10:30:20.796347 125022409188544 efficientnet_model.py:453] Building model efficientnet with params ModelConfig(width_coefficient=1.1, depth_coefficient=1.2, resolution=260, dropout_rate=0.3, blocks=(BlockConfig(input_filters=32, output_filters=16, kernel_size=3, num_repeat=1, expand_ratio=1, strides=(1, 1), se_ratio=0.25, id_skip=True, fused_conv=False, conv_type='depthwise'), BlockConfig(input_filters=16, output_filters=24, kernel_size=3, num_repeat=2, expand_ratio=6, strides=(2, 2), se_ratio=0.25, id_skip=True, fused_conv=False, conv_type='depthwise'), BlockConfig(input_filters=24, output_filters=40, kernel_size=5, num_repeat=2, expand_ratio=6, strides=(2, 2), se_ratio=0.25, id_skip=True, fused_conv=False, conv_type='depthwise'), BlockConfig(input_filters=40, output_filters=80, kernel_size=3, num_repeat=3, expand_ratio=6, strides=(2, 2), se_ratio=0.25, id_skip=True, fused_conv=False, conv_type='depthwise'), BlockConfig(input_filters=80, output_filters=112, kernel_size=5, num_repeat=3, expand_ratio=6, strides=(1, 1), se_ratio=0.25, id_skip=True, fused_conv=False, conv_type='depthwise'), BlockConfig(input_filters=112, output_filters=192, kernel_size=5, num_repeat=4, expand_ratio=6, strides=(2, 2), se_ratio=0.25, id_skip=True, fused_conv=False, conv_type='depthwise'), BlockConfig(input_filters=192, output_filters=320, kernel_size=3, num_repeat=1, expand_ratio=6, strides=(1, 1), se_ratio=0.25, id_skip=True, fused_conv=False, conv_type='depthwise')), stem_base_filters=32, top_base_filters=1280, activation='simple_swish', batch_norm='default', bn_momentum=0.99, bn_epsilon=0.001, weight_decay=5e-06, drop_connect_rate=0.2, depth_divisor=8, min_depth=None, use_se=True, input_channels=3, num_classes=1000, model_name='efficientnet', rescale_input=False, data_format='channels_last', dtype='float32')\n",
      "I0525 10:30:20.840431 125022409188544 ssd_efficientnet_bifpn_feature_extractor.py:161] EfficientDet EfficientNet backbone version: efficientnet-b3\n",
      "I0525 10:30:20.840546 125022409188544 ssd_efficientnet_bifpn_feature_extractor.py:163] EfficientDet BiFPN num filters: 160\n",
      "I0525 10:30:20.840586 125022409188544 ssd_efficientnet_bifpn_feature_extractor.py:164] EfficientDet BiFPN num iterations: 6\n",
      "I0525 10:30:20.841863 125022409188544 efficientnet_model.py:143] round_filter input=32 output=40\n",
      "I0525 10:30:20.854841 125022409188544 efficientnet_model.py:143] round_filter input=32 output=40\n",
      "I0525 10:30:20.854944 125022409188544 efficientnet_model.py:143] round_filter input=16 output=24\n",
      "I0525 10:30:20.953540 125022409188544 efficientnet_model.py:143] round_filter input=16 output=24\n",
      "I0525 10:30:20.953659 125022409188544 efficientnet_model.py:143] round_filter input=24 output=32\n",
      "I0525 10:30:21.143652 125022409188544 efficientnet_model.py:143] round_filter input=24 output=32\n",
      "I0525 10:30:21.143773 125022409188544 efficientnet_model.py:143] round_filter input=40 output=48\n",
      "I0525 10:30:21.316373 125022409188544 efficientnet_model.py:143] round_filter input=40 output=48\n",
      "I0525 10:30:21.316506 125022409188544 efficientnet_model.py:143] round_filter input=80 output=96\n",
      "I0525 10:30:21.598858 125022409188544 efficientnet_model.py:143] round_filter input=80 output=96\n",
      "I0525 10:30:21.598988 125022409188544 efficientnet_model.py:143] round_filter input=112 output=136\n",
      "I0525 10:30:21.890033 125022409188544 efficientnet_model.py:143] round_filter input=112 output=136\n",
      "I0525 10:30:21.890146 125022409188544 efficientnet_model.py:143] round_filter input=192 output=232\n",
      "I0525 10:30:22.265856 125022409188544 efficientnet_model.py:143] round_filter input=192 output=232\n",
      "I0525 10:30:22.265992 125022409188544 efficientnet_model.py:143] round_filter input=320 output=384\n",
      "I0525 10:30:22.422072 125022409188544 efficientnet_model.py:143] round_filter input=1280 output=1536\n",
      "I0525 10:30:22.460729 125022409188544 efficientnet_model.py:453] Building model efficientnet with params ModelConfig(width_coefficient=1.2, depth_coefficient=1.4, resolution=300, dropout_rate=0.3, blocks=(BlockConfig(input_filters=32, output_filters=16, kernel_size=3, num_repeat=1, expand_ratio=1, strides=(1, 1), se_ratio=0.25, id_skip=True, fused_conv=False, conv_type='depthwise'), BlockConfig(input_filters=16, output_filters=24, kernel_size=3, num_repeat=2, expand_ratio=6, strides=(2, 2), se_ratio=0.25, id_skip=True, fused_conv=False, conv_type='depthwise'), BlockConfig(input_filters=24, output_filters=40, kernel_size=5, num_repeat=2, expand_ratio=6, strides=(2, 2), se_ratio=0.25, id_skip=True, fused_conv=False, conv_type='depthwise'), BlockConfig(input_filters=40, output_filters=80, kernel_size=3, num_repeat=3, expand_ratio=6, strides=(2, 2), se_ratio=0.25, id_skip=True, fused_conv=False, conv_type='depthwise'), BlockConfig(input_filters=80, output_filters=112, kernel_size=5, num_repeat=3, expand_ratio=6, strides=(1, 1), se_ratio=0.25, id_skip=True, fused_conv=False, conv_type='depthwise'), BlockConfig(input_filters=112, output_filters=192, kernel_size=5, num_repeat=4, expand_ratio=6, strides=(2, 2), se_ratio=0.25, id_skip=True, fused_conv=False, conv_type='depthwise'), BlockConfig(input_filters=192, output_filters=320, kernel_size=3, num_repeat=1, expand_ratio=6, strides=(1, 1), se_ratio=0.25, id_skip=True, fused_conv=False, conv_type='depthwise')), stem_base_filters=32, top_base_filters=1280, activation='simple_swish', batch_norm='default', bn_momentum=0.99, bn_epsilon=0.001, weight_decay=5e-06, drop_connect_rate=0.2, depth_divisor=8, min_depth=None, use_se=True, input_channels=3, num_classes=1000, model_name='efficientnet', rescale_input=False, data_format='channels_last', dtype='float32')\n",
      "I0525 10:30:22.509118 125022409188544 ssd_efficientnet_bifpn_feature_extractor.py:161] EfficientDet EfficientNet backbone version: efficientnet-b4\n",
      "I0525 10:30:22.509248 125022409188544 ssd_efficientnet_bifpn_feature_extractor.py:163] EfficientDet BiFPN num filters: 224\n",
      "I0525 10:30:22.509295 125022409188544 ssd_efficientnet_bifpn_feature_extractor.py:164] EfficientDet BiFPN num iterations: 7\n",
      "I0525 10:30:22.510657 125022409188544 efficientnet_model.py:143] round_filter input=32 output=48\n",
      "I0525 10:30:22.525080 125022409188544 efficientnet_model.py:143] round_filter input=32 output=48\n",
      "I0525 10:30:22.525208 125022409188544 efficientnet_model.py:143] round_filter input=16 output=24\n",
      "I0525 10:30:22.617456 125022409188544 efficientnet_model.py:143] round_filter input=16 output=24\n",
      "I0525 10:30:22.617622 125022409188544 efficientnet_model.py:143] round_filter input=24 output=32\n",
      "I0525 10:30:22.840561 125022409188544 efficientnet_model.py:143] round_filter input=24 output=32\n",
      "I0525 10:30:22.840679 125022409188544 efficientnet_model.py:143] round_filter input=40 output=56\n",
      "I0525 10:30:23.080353 125022409188544 efficientnet_model.py:143] round_filter input=40 output=56\n",
      "I0525 10:30:23.080472 125022409188544 efficientnet_model.py:143] round_filter input=80 output=112\n",
      "I0525 10:30:23.442374 125022409188544 efficientnet_model.py:143] round_filter input=80 output=112\n",
      "I0525 10:30:23.442492 125022409188544 efficientnet_model.py:143] round_filter input=112 output=160\n",
      "I0525 10:30:23.808883 125022409188544 efficientnet_model.py:143] round_filter input=112 output=160\n",
      "I0525 10:30:23.809008 125022409188544 efficientnet_model.py:143] round_filter input=192 output=272\n",
      "I0525 10:30:24.345383 125022409188544 efficientnet_model.py:143] round_filter input=192 output=272\n",
      "I0525 10:30:24.345506 125022409188544 efficientnet_model.py:143] round_filter input=320 output=448\n",
      "I0525 10:30:24.511569 125022409188544 efficientnet_model.py:143] round_filter input=1280 output=1792\n",
      "I0525 10:30:24.555096 125022409188544 efficientnet_model.py:453] Building model efficientnet with params ModelConfig(width_coefficient=1.4, depth_coefficient=1.8, resolution=380, dropout_rate=0.4, blocks=(BlockConfig(input_filters=32, output_filters=16, kernel_size=3, num_repeat=1, expand_ratio=1, strides=(1, 1), se_ratio=0.25, id_skip=True, fused_conv=False, conv_type='depthwise'), BlockConfig(input_filters=16, output_filters=24, kernel_size=3, num_repeat=2, expand_ratio=6, strides=(2, 2), se_ratio=0.25, id_skip=True, fused_conv=False, conv_type='depthwise'), BlockConfig(input_filters=24, output_filters=40, kernel_size=5, num_repeat=2, expand_ratio=6, strides=(2, 2), se_ratio=0.25, id_skip=True, fused_conv=False, conv_type='depthwise'), BlockConfig(input_filters=40, output_filters=80, kernel_size=3, num_repeat=3, expand_ratio=6, strides=(2, 2), se_ratio=0.25, id_skip=True, fused_conv=False, conv_type='depthwise'), BlockConfig(input_filters=80, output_filters=112, kernel_size=5, num_repeat=3, expand_ratio=6, strides=(1, 1), se_ratio=0.25, id_skip=True, fused_conv=False, conv_type='depthwise'), BlockConfig(input_filters=112, output_filters=192, kernel_size=5, num_repeat=4, expand_ratio=6, strides=(2, 2), se_ratio=0.25, id_skip=True, fused_conv=False, conv_type='depthwise'), BlockConfig(input_filters=192, output_filters=320, kernel_size=3, num_repeat=1, expand_ratio=6, strides=(1, 1), se_ratio=0.25, id_skip=True, fused_conv=False, conv_type='depthwise')), stem_base_filters=32, top_base_filters=1280, activation='simple_swish', batch_norm='default', bn_momentum=0.99, bn_epsilon=0.001, weight_decay=5e-06, drop_connect_rate=0.2, depth_divisor=8, min_depth=None, use_se=True, input_channels=3, num_classes=1000, model_name='efficientnet', rescale_input=False, data_format='channels_last', dtype='float32')\n",
      "I0525 10:30:24.901171 125022409188544 ssd_efficientnet_bifpn_feature_extractor.py:161] EfficientDet EfficientNet backbone version: efficientnet-b5\n",
      "I0525 10:30:24.901294 125022409188544 ssd_efficientnet_bifpn_feature_extractor.py:163] EfficientDet BiFPN num filters: 288\n",
      "I0525 10:30:24.901327 125022409188544 ssd_efficientnet_bifpn_feature_extractor.py:164] EfficientDet BiFPN num iterations: 7\n",
      "I0525 10:30:24.902679 125022409188544 efficientnet_model.py:143] round_filter input=32 output=48\n",
      "I0525 10:30:24.913892 125022409188544 efficientnet_model.py:143] round_filter input=32 output=48\n",
      "I0525 10:30:24.913980 125022409188544 efficientnet_model.py:143] round_filter input=16 output=24\n",
      "I0525 10:30:25.053808 125022409188544 efficientnet_model.py:143] round_filter input=16 output=24\n",
      "I0525 10:30:25.053952 125022409188544 efficientnet_model.py:143] round_filter input=24 output=40\n",
      "I0525 10:30:25.339652 125022409188544 efficientnet_model.py:143] round_filter input=24 output=40\n",
      "I0525 10:30:25.339803 125022409188544 efficientnet_model.py:143] round_filter input=40 output=64\n",
      "I0525 10:30:25.632331 125022409188544 efficientnet_model.py:143] round_filter input=40 output=64\n",
      "I0525 10:30:25.632450 125022409188544 efficientnet_model.py:143] round_filter input=80 output=128\n",
      "I0525 10:30:26.051493 125022409188544 efficientnet_model.py:143] round_filter input=80 output=128\n",
      "I0525 10:30:26.051620 125022409188544 efficientnet_model.py:143] round_filter input=112 output=176\n",
      "I0525 10:30:26.485018 125022409188544 efficientnet_model.py:143] round_filter input=112 output=176\n",
      "I0525 10:30:26.485136 125022409188544 efficientnet_model.py:143] round_filter input=192 output=304\n",
      "I0525 10:30:27.087381 125022409188544 efficientnet_model.py:143] round_filter input=192 output=304\n",
      "I0525 10:30:27.087518 125022409188544 efficientnet_model.py:143] round_filter input=320 output=512\n",
      "I0525 10:30:27.333307 125022409188544 efficientnet_model.py:143] round_filter input=1280 output=2048\n",
      "I0525 10:30:27.372226 125022409188544 efficientnet_model.py:453] Building model efficientnet with params ModelConfig(width_coefficient=1.6, depth_coefficient=2.2, resolution=456, dropout_rate=0.4, blocks=(BlockConfig(input_filters=32, output_filters=16, kernel_size=3, num_repeat=1, expand_ratio=1, strides=(1, 1), se_ratio=0.25, id_skip=True, fused_conv=False, conv_type='depthwise'), BlockConfig(input_filters=16, output_filters=24, kernel_size=3, num_repeat=2, expand_ratio=6, strides=(2, 2), se_ratio=0.25, id_skip=True, fused_conv=False, conv_type='depthwise'), BlockConfig(input_filters=24, output_filters=40, kernel_size=5, num_repeat=2, expand_ratio=6, strides=(2, 2), se_ratio=0.25, id_skip=True, fused_conv=False, conv_type='depthwise'), BlockConfig(input_filters=40, output_filters=80, kernel_size=3, num_repeat=3, expand_ratio=6, strides=(2, 2), se_ratio=0.25, id_skip=True, fused_conv=False, conv_type='depthwise'), BlockConfig(input_filters=80, output_filters=112, kernel_size=5, num_repeat=3, expand_ratio=6, strides=(1, 1), se_ratio=0.25, id_skip=True, fused_conv=False, conv_type='depthwise'), BlockConfig(input_filters=112, output_filters=192, kernel_size=5, num_repeat=4, expand_ratio=6, strides=(2, 2), se_ratio=0.25, id_skip=True, fused_conv=False, conv_type='depthwise'), BlockConfig(input_filters=192, output_filters=320, kernel_size=3, num_repeat=1, expand_ratio=6, strides=(1, 1), se_ratio=0.25, id_skip=True, fused_conv=False, conv_type='depthwise')), stem_base_filters=32, top_base_filters=1280, activation='simple_swish', batch_norm='default', bn_momentum=0.99, bn_epsilon=0.001, weight_decay=5e-06, drop_connect_rate=0.2, depth_divisor=8, min_depth=None, use_se=True, input_channels=3, num_classes=1000, model_name='efficientnet', rescale_input=False, data_format='channels_last', dtype='float32')\n",
      "I0525 10:30:27.436289 125022409188544 ssd_efficientnet_bifpn_feature_extractor.py:161] EfficientDet EfficientNet backbone version: efficientnet-b6\n",
      "I0525 10:30:27.436401 125022409188544 ssd_efficientnet_bifpn_feature_extractor.py:163] EfficientDet BiFPN num filters: 384\n",
      "I0525 10:30:27.436435 125022409188544 ssd_efficientnet_bifpn_feature_extractor.py:164] EfficientDet BiFPN num iterations: 8\n",
      "I0525 10:30:27.437704 125022409188544 efficientnet_model.py:143] round_filter input=32 output=56\n",
      "I0525 10:30:27.452145 125022409188544 efficientnet_model.py:143] round_filter input=32 output=56\n",
      "I0525 10:30:27.452259 125022409188544 efficientnet_model.py:143] round_filter input=16 output=32\n",
      "I0525 10:30:27.589806 125022409188544 efficientnet_model.py:143] round_filter input=16 output=32\n",
      "I0525 10:30:27.589919 125022409188544 efficientnet_model.py:143] round_filter input=24 output=40\n",
      "I0525 10:30:27.964698 125022409188544 efficientnet_model.py:143] round_filter input=24 output=40\n",
      "I0525 10:30:27.964879 125022409188544 efficientnet_model.py:143] round_filter input=40 output=72\n",
      "I0525 10:30:28.333130 125022409188544 efficientnet_model.py:143] round_filter input=40 output=72\n",
      "I0525 10:30:28.333250 125022409188544 efficientnet_model.py:143] round_filter input=80 output=144\n",
      "I0525 10:30:28.794215 125022409188544 efficientnet_model.py:143] round_filter input=80 output=144\n",
      "I0525 10:30:28.794331 125022409188544 efficientnet_model.py:143] round_filter input=112 output=200\n",
      "I0525 10:30:29.312954 125022409188544 efficientnet_model.py:143] round_filter input=112 output=200\n",
      "I0525 10:30:29.313090 125022409188544 efficientnet_model.py:143] round_filter input=192 output=344\n",
      "I0525 10:30:30.124274 125022409188544 efficientnet_model.py:143] round_filter input=192 output=344\n",
      "I0525 10:30:30.124451 125022409188544 efficientnet_model.py:143] round_filter input=320 output=576\n",
      "I0525 10:30:30.678605 125022409188544 efficientnet_model.py:143] round_filter input=1280 output=2304\n",
      "I0525 10:30:30.720464 125022409188544 efficientnet_model.py:453] Building model efficientnet with params ModelConfig(width_coefficient=1.8, depth_coefficient=2.6, resolution=528, dropout_rate=0.5, blocks=(BlockConfig(input_filters=32, output_filters=16, kernel_size=3, num_repeat=1, expand_ratio=1, strides=(1, 1), se_ratio=0.25, id_skip=True, fused_conv=False, conv_type='depthwise'), BlockConfig(input_filters=16, output_filters=24, kernel_size=3, num_repeat=2, expand_ratio=6, strides=(2, 2), se_ratio=0.25, id_skip=True, fused_conv=False, conv_type='depthwise'), BlockConfig(input_filters=24, output_filters=40, kernel_size=5, num_repeat=2, expand_ratio=6, strides=(2, 2), se_ratio=0.25, id_skip=True, fused_conv=False, conv_type='depthwise'), BlockConfig(input_filters=40, output_filters=80, kernel_size=3, num_repeat=3, expand_ratio=6, strides=(2, 2), se_ratio=0.25, id_skip=True, fused_conv=False, conv_type='depthwise'), BlockConfig(input_filters=80, output_filters=112, kernel_size=5, num_repeat=3, expand_ratio=6, strides=(1, 1), se_ratio=0.25, id_skip=True, fused_conv=False, conv_type='depthwise'), BlockConfig(input_filters=112, output_filters=192, kernel_size=5, num_repeat=4, expand_ratio=6, strides=(2, 2), se_ratio=0.25, id_skip=True, fused_conv=False, conv_type='depthwise'), BlockConfig(input_filters=192, output_filters=320, kernel_size=3, num_repeat=1, expand_ratio=6, strides=(1, 1), se_ratio=0.25, id_skip=True, fused_conv=False, conv_type='depthwise')), stem_base_filters=32, top_base_filters=1280, activation='simple_swish', batch_norm='default', bn_momentum=0.99, bn_epsilon=0.001, weight_decay=5e-06, drop_connect_rate=0.2, depth_divisor=8, min_depth=None, use_se=True, input_channels=3, num_classes=1000, model_name='efficientnet', rescale_input=False, data_format='channels_last', dtype='float32')\n",
      "I0525 10:30:30.795575 125022409188544 ssd_efficientnet_bifpn_feature_extractor.py:161] EfficientDet EfficientNet backbone version: efficientnet-b7\n",
      "I0525 10:30:30.795714 125022409188544 ssd_efficientnet_bifpn_feature_extractor.py:163] EfficientDet BiFPN num filters: 384\n",
      "I0525 10:30:30.795764 125022409188544 ssd_efficientnet_bifpn_feature_extractor.py:164] EfficientDet BiFPN num iterations: 8\n",
      "I0525 10:30:30.797226 125022409188544 efficientnet_model.py:143] round_filter input=32 output=64\n",
      "I0525 10:30:30.815954 125022409188544 efficientnet_model.py:143] round_filter input=32 output=64\n",
      "I0525 10:30:30.816078 125022409188544 efficientnet_model.py:143] round_filter input=16 output=32\n",
      "I0525 10:30:31.018511 125022409188544 efficientnet_model.py:143] round_filter input=16 output=32\n",
      "I0525 10:30:31.018635 125022409188544 efficientnet_model.py:143] round_filter input=24 output=48\n",
      "I0525 10:30:31.485277 125022409188544 efficientnet_model.py:143] round_filter input=24 output=48\n",
      "I0525 10:30:31.485400 125022409188544 efficientnet_model.py:143] round_filter input=40 output=80\n",
      "I0525 10:30:31.898759 125022409188544 efficientnet_model.py:143] round_filter input=40 output=80\n",
      "I0525 10:30:31.898898 125022409188544 efficientnet_model.py:143] round_filter input=80 output=160\n",
      "I0525 10:30:32.510394 125022409188544 efficientnet_model.py:143] round_filter input=80 output=160\n",
      "I0525 10:30:32.510508 125022409188544 efficientnet_model.py:143] round_filter input=112 output=224\n",
      "I0525 10:30:33.142254 125022409188544 efficientnet_model.py:143] round_filter input=112 output=224\n",
      "I0525 10:30:33.142378 125022409188544 efficientnet_model.py:143] round_filter input=192 output=384\n",
      "I0525 10:30:34.059034 125022409188544 efficientnet_model.py:143] round_filter input=192 output=384\n",
      "I0525 10:30:34.059175 125022409188544 efficientnet_model.py:143] round_filter input=320 output=640\n",
      "I0525 10:30:34.440360 125022409188544 efficientnet_model.py:143] round_filter input=1280 output=2560\n",
      "I0525 10:30:34.482255 125022409188544 efficientnet_model.py:453] Building model efficientnet with params ModelConfig(width_coefficient=2.0, depth_coefficient=3.1, resolution=600, dropout_rate=0.5, blocks=(BlockConfig(input_filters=32, output_filters=16, kernel_size=3, num_repeat=1, expand_ratio=1, strides=(1, 1), se_ratio=0.25, id_skip=True, fused_conv=False, conv_type='depthwise'), BlockConfig(input_filters=16, output_filters=24, kernel_size=3, num_repeat=2, expand_ratio=6, strides=(2, 2), se_ratio=0.25, id_skip=True, fused_conv=False, conv_type='depthwise'), BlockConfig(input_filters=24, output_filters=40, kernel_size=5, num_repeat=2, expand_ratio=6, strides=(2, 2), se_ratio=0.25, id_skip=True, fused_conv=False, conv_type='depthwise'), BlockConfig(input_filters=40, output_filters=80, kernel_size=3, num_repeat=3, expand_ratio=6, strides=(2, 2), se_ratio=0.25, id_skip=True, fused_conv=False, conv_type='depthwise'), BlockConfig(input_filters=80, output_filters=112, kernel_size=5, num_repeat=3, expand_ratio=6, strides=(1, 1), se_ratio=0.25, id_skip=True, fused_conv=False, conv_type='depthwise'), BlockConfig(input_filters=112, output_filters=192, kernel_size=5, num_repeat=4, expand_ratio=6, strides=(2, 2), se_ratio=0.25, id_skip=True, fused_conv=False, conv_type='depthwise'), BlockConfig(input_filters=192, output_filters=320, kernel_size=3, num_repeat=1, expand_ratio=6, strides=(1, 1), se_ratio=0.25, id_skip=True, fused_conv=False, conv_type='depthwise')), stem_base_filters=32, top_base_filters=1280, activation='simple_swish', batch_norm='default', bn_momentum=0.99, bn_epsilon=0.001, weight_decay=5e-06, drop_connect_rate=0.2, depth_divisor=8, min_depth=None, use_se=True, input_channels=3, num_classes=1000, model_name='efficientnet', rescale_input=False, data_format='channels_last', dtype='float32')\n",
      "INFO:tensorflow:time(__main__.ModelBuilderTF2Test.test_create_ssd_models_from_config): 18.02s\n",
      "I0525 10:30:34.574231 125022409188544 test_util.py:2462] time(__main__.ModelBuilderTF2Test.test_create_ssd_models_from_config): 18.02s\n",
      "[       OK ] ModelBuilderTF2Test.test_create_ssd_models_from_config\n",
      "[ RUN      ] ModelBuilderTF2Test.test_invalid_faster_rcnn_batchnorm_update\n",
      "INFO:tensorflow:time(__main__.ModelBuilderTF2Test.test_invalid_faster_rcnn_batchnorm_update): 0.0s\n",
      "I0525 10:30:34.597315 125022409188544 test_util.py:2462] time(__main__.ModelBuilderTF2Test.test_invalid_faster_rcnn_batchnorm_update): 0.0s\n",
      "[       OK ] ModelBuilderTF2Test.test_invalid_faster_rcnn_batchnorm_update\n",
      "[ RUN      ] ModelBuilderTF2Test.test_invalid_first_stage_nms_iou_threshold\n",
      "INFO:tensorflow:time(__main__.ModelBuilderTF2Test.test_invalid_first_stage_nms_iou_threshold): 0.0s\n",
      "I0525 10:30:34.598482 125022409188544 test_util.py:2462] time(__main__.ModelBuilderTF2Test.test_invalid_first_stage_nms_iou_threshold): 0.0s\n",
      "[       OK ] ModelBuilderTF2Test.test_invalid_first_stage_nms_iou_threshold\n",
      "[ RUN      ] ModelBuilderTF2Test.test_invalid_model_config_proto\n",
      "INFO:tensorflow:time(__main__.ModelBuilderTF2Test.test_invalid_model_config_proto): 0.0s\n",
      "I0525 10:30:34.598802 125022409188544 test_util.py:2462] time(__main__.ModelBuilderTF2Test.test_invalid_model_config_proto): 0.0s\n",
      "[       OK ] ModelBuilderTF2Test.test_invalid_model_config_proto\n",
      "[ RUN      ] ModelBuilderTF2Test.test_invalid_second_stage_batch_size\n",
      "INFO:tensorflow:time(__main__.ModelBuilderTF2Test.test_invalid_second_stage_batch_size): 0.0s\n",
      "I0525 10:30:34.599734 125022409188544 test_util.py:2462] time(__main__.ModelBuilderTF2Test.test_invalid_second_stage_batch_size): 0.0s\n",
      "[       OK ] ModelBuilderTF2Test.test_invalid_second_stage_batch_size\n",
      "[ RUN      ] ModelBuilderTF2Test.test_session\n",
      "[  SKIPPED ] ModelBuilderTF2Test.test_session\n",
      "[ RUN      ] ModelBuilderTF2Test.test_unknown_faster_rcnn_feature_extractor\n",
      "INFO:tensorflow:time(__main__.ModelBuilderTF2Test.test_unknown_faster_rcnn_feature_extractor): 0.0s\n",
      "I0525 10:30:34.600495 125022409188544 test_util.py:2462] time(__main__.ModelBuilderTF2Test.test_unknown_faster_rcnn_feature_extractor): 0.0s\n",
      "[       OK ] ModelBuilderTF2Test.test_unknown_faster_rcnn_feature_extractor\n",
      "[ RUN      ] ModelBuilderTF2Test.test_unknown_meta_architecture\n",
      "INFO:tensorflow:time(__main__.ModelBuilderTF2Test.test_unknown_meta_architecture): 0.0s\n",
      "I0525 10:30:34.600707 125022409188544 test_util.py:2462] time(__main__.ModelBuilderTF2Test.test_unknown_meta_architecture): 0.0s\n",
      "[       OK ] ModelBuilderTF2Test.test_unknown_meta_architecture\n",
      "[ RUN      ] ModelBuilderTF2Test.test_unknown_ssd_feature_extractor\n",
      "INFO:tensorflow:time(__main__.ModelBuilderTF2Test.test_unknown_ssd_feature_extractor): 0.0s\n",
      "I0525 10:30:34.601326 125022409188544 test_util.py:2462] time(__main__.ModelBuilderTF2Test.test_unknown_ssd_feature_extractor): 0.0s\n",
      "[       OK ] ModelBuilderTF2Test.test_unknown_ssd_feature_extractor\n",
      "----------------------------------------------------------------------\n",
      "Ran 24 tests in 21.477s\n",
      "\n",
      "OK (skipped=1)\n"
     ]
    }
   ],
   "source": [
    "VERIFICATION_SCRIPT = os.path.join(paths['APIMODEL_PATH'], 'research', 'object_detection', 'builders', 'model_builder_tf2_test.py')\n",
    "# Verify Installation\n",
    "!python {VERIFICATION_SCRIPT}"
   ]
  },
  {
   "cell_type": "code",
   "execution_count": 6,
   "metadata": {},
   "outputs": [],
   "source": [
    "import object_detection"
   ]
  },
  {
   "cell_type": "code",
   "execution_count": 21,
   "metadata": {
    "colab": {
     "base_uri": "https://localhost:8080/"
    },
    "id": "csofht2npfDE",
    "outputId": "ff5471b2-bed2-43f2-959c-327a706527b6"
   },
   "outputs": [
    {
     "name": "stdout",
     "output_type": "stream",
     "text": [
      "--2024-05-25 10:30:35--  http://download.tensorflow.org/models/object_detection/tf2/20200711/efficientdet_d0_coco17_tpu-32.tar.gz\n",
      "Resolving download.tensorflow.org (download.tensorflow.org)... 34.101.5.59, 34.101.5.91, 142.251.223.27, ...\n",
      "Connecting to download.tensorflow.org (download.tensorflow.org)|34.101.5.59|:80... connected.\n",
      "HTTP request sent, awaiting response... 200 OK\n",
      "Length: 30736482 (29M) [application/x-tar]\n",
      "Saving to: ‘efficientdet_d0_coco17_tpu-32.tar.gz’\n",
      "\n",
      "efficientdet_d0_coc 100%[===================>]  29.31M  2.05MB/s    in 15s     \n",
      "\n",
      "2024-05-25 10:30:51 (1.96 MB/s) - ‘efficientdet_d0_coco17_tpu-32.tar.gz’ saved [30736482/30736482]\n",
      "\n",
      "efficientdet_d0_coco17_tpu-32/\n",
      "efficientdet_d0_coco17_tpu-32/checkpoint/\n",
      "efficientdet_d0_coco17_tpu-32/checkpoint/ckpt-0.data-00000-of-00001\n",
      "efficientdet_d0_coco17_tpu-32/checkpoint/checkpoint\n",
      "efficientdet_d0_coco17_tpu-32/checkpoint/ckpt-0.index\n",
      "efficientdet_d0_coco17_tpu-32/pipeline.config\n",
      "efficientdet_d0_coco17_tpu-32/saved_model/\n",
      "efficientdet_d0_coco17_tpu-32/saved_model/saved_model.pb\n",
      "efficientdet_d0_coco17_tpu-32/saved_model/assets/\n",
      "efficientdet_d0_coco17_tpu-32/saved_model/variables/\n",
      "efficientdet_d0_coco17_tpu-32/saved_model/variables/variables.data-00000-of-00001\n",
      "efficientdet_d0_coco17_tpu-32/saved_model/variables/variables.index\n"
     ]
    }
   ],
   "source": [
    "# Download Model from TF Zoo\n",
    "!wget {PRETRAINED_MODEL_URL}\n",
    "!mv {PRETRAINED_MODEL_NAME+'.tar.gz'} {paths['PRETRAINED_MODEL_PATH']}\n",
    "!cd {paths['PRETRAINED_MODEL_PATH']} && tar -zxvf {PRETRAINED_MODEL_NAME+'.tar.gz'}"
   ]
  },
  {
   "cell_type": "markdown",
   "metadata": {
    "id": "M5KJTnkfpfDC"
   },
   "source": [
    "# 2. Create Label Map"
   ]
  },
  {
   "cell_type": "code",
   "execution_count": 35,
   "metadata": {
    "id": "p1BVDWo7pfDC"
   },
   "outputs": [],
   "source": [
    "labels = [\n",
    "    {\"name\": 'biskuit-selamat', \"id\": 1},\n",
    "    {\"name\": 'chitato-lite', \"id\": 2},\n",
    "    {\"name\": 'chitato-sapi', \"id\": 3},\n",
    "    {\"name\": 'fitbar', \"id\": 4},\n",
    "    {\"name\": 'pocari', \"id\": 5},\n",
    "    {\"name\": 'nissin-cracker', \"id\": 6},\n",
    "    {\"name\": 'popmie', \"id\": 7},\n",
    "    {\"name\": 'roma-kelapa', \"id\": 8},\n",
    "    {\"name\": 'teh-botol', \"id\": 9},\n",
    "    {\"name\": 'twist', \"id\": 10}\n",
    "]\n",
    "\n",
    "with open(files[\"LABELMAP\"], \"w\") as f:\n",
    "    for label in labels:\n",
    "        f.write(\"item { \\n\")\n",
    "        f.write(\"\\tname:'{}'\\n\".format(label[\"name\"]))\n",
    "        f.write(\"\\tid:{}\\n\".format(label[\"id\"]))\n",
    "        f.write(\"}\\n\")"
   ]
  },
  {
   "cell_type": "markdown",
   "metadata": {
    "id": "C88zyVELpfDC"
   },
   "source": [
    "# 3. Create TF records"
   ]
  },
  {
   "cell_type": "code",
   "execution_count": 8,
   "metadata": {
    "colab": {
     "base_uri": "https://localhost:8080/"
    },
    "id": "kvf5WccwrFGq",
    "outputId": "49902aeb-0bd7-4298-e1a0-5b4a64eb2064"
   },
   "outputs": [],
   "source": [
    "# # OPTIONAL IF RUNNING ON COLAB\n",
    "# ARCHIVE_FILES = os.path.join(paths['IMAGE_PATH'], 'archive.tar.gz')\n",
    "# if os.path.exists(ARCHIVE_FILES):\n",
    "#   !tar -zxvf {ARCHIVE_FILES}"
   ]
  },
  {
   "cell_type": "code",
   "execution_count": 9,
   "metadata": {
    "colab": {
     "base_uri": "https://localhost:8080/"
    },
    "id": "KWpb_BVUpfDD",
    "outputId": "56ce2a3f-3933-4ee6-8a9d-d5ec65f7d73c"
   },
   "outputs": [],
   "source": [
    "if not os.path.exists(files['TF_RECORD_SCRIPT']):\n",
    "    !git clone https://github.com/nicknochnack/GenerateTFRecord {paths['SCRIPTS_PATH']}"
   ]
  },
  {
   "cell_type": "code",
   "execution_count": 10,
   "metadata": {
    "colab": {
     "base_uri": "https://localhost:8080/"
    },
    "id": "UPFToGZqpfDD",
    "outputId": "0ebb456f-aadc-4a1f-96e6-fbfec1923e1c"
   },
   "outputs": [
    {
     "name": "stdout",
     "output_type": "stream",
     "text": [
      "Successfully created the TFRecord file: Tensorflow/workspace/annotations/train.record\n",
      "Successfully created the TFRecord file: Tensorflow/workspace/annotations/test.record\n"
     ]
    }
   ],
   "source": [
    "!python {files['TF_RECORD_SCRIPT']} -x {os.path.join(paths['IMAGE_PATH'], 'train')} -l {files['LABELMAP']} -o {os.path.join(paths['ANNOTATION_PATH'], 'train.record')} \n",
    "!python {files['TF_RECORD_SCRIPT']} -x {os.path.join(paths['IMAGE_PATH'], 'test')} -l {files['LABELMAP']} -o {os.path.join(paths['ANNOTATION_PATH'], 'test.record')} "
   ]
  },
  {
   "cell_type": "markdown",
   "metadata": {
    "id": "qT4QU7pLpfDE"
   },
   "source": [
    "# 4. Copy Model Config to Training Folder"
   ]
  },
  {
   "cell_type": "code",
   "execution_count": 11,
   "metadata": {
    "id": "cOjuTFbwpfDF"
   },
   "outputs": [],
   "source": [
    "!cp {os.path.join(paths['PRETRAINED_MODEL_PATH'], PRETRAINED_MODEL_NAME, 'pipeline.config')} {os.path.join(paths['CHECKPOINT_PATH'])}"
   ]
  },
  {
   "cell_type": "markdown",
   "metadata": {
    "id": "Ga8gpNslpfDF"
   },
   "source": [
    "# 5. Update Config For Transfer Learning"
   ]
  },
  {
   "cell_type": "code",
   "execution_count": 29,
   "metadata": {
    "id": "Z9hRrO_ppfDF"
   },
   "outputs": [],
   "source": [
    "import tensorflow as tf\n",
    "from object_detection.utils import config_util\n",
    "from object_detection.protos import pipeline_pb2\n",
    "from google.protobuf import text_format"
   ]
  },
  {
   "cell_type": "code",
   "execution_count": 31,
   "metadata": {
    "id": "c2A0mn4ipfDF"
   },
   "outputs": [],
   "source": [
    "config = config_util.get_configs_from_pipeline_file(files['PIPELINE_CONFIG'])"
   ]
  },
  {
   "cell_type": "code",
   "execution_count": 37,
   "metadata": {
    "id": "9vK5lotDpfDF"
   },
   "outputs": [],
   "source": [
    "pipeline_config = pipeline_pb2.TrainEvalPipelineConfig()\n",
    "with tf.io.gfile.GFile(files['PIPELINE_CONFIG'], \"r\") as f:                                                                                                                                                                                                                     \n",
    "    proto_str = f.read()                                                                                                                                                                                                                                          \n",
    "    text_format.Merge(proto_str, pipeline_config)  "
   ]
  },
  {
   "cell_type": "code",
   "execution_count": 38,
   "metadata": {
    "id": "rP43Ph0JpfDG"
   },
   "outputs": [],
   "source": [
    "pipeline_config.model.ssd.num_classes = len(labels)\n",
    "pipeline_config.train_config.batch_size = 4\n",
    "pipeline_config.train_config.fine_tune_checkpoint = os.path.join(paths['PRETRAINED_MODEL_PATH'], PRETRAINED_MODEL_NAME, 'checkpoint', 'ckpt-0')\n",
    "pipeline_config.train_config.fine_tune_checkpoint_type = \"detection\"\n",
    "pipeline_config.train_input_reader.label_map_path= files['LABELMAP']\n",
    "pipeline_config.train_input_reader.tf_record_input_reader.input_path[:] = [os.path.join(paths['ANNOTATION_PATH'], 'train.record')]\n",
    "pipeline_config.eval_input_reader[0].label_map_path = files['LABELMAP']\n",
    "pipeline_config.eval_input_reader[0].tf_record_input_reader.input_path[:] = [os.path.join(paths['ANNOTATION_PATH'], 'test.record')]"
   ]
  },
  {
   "cell_type": "code",
   "execution_count": 39,
   "metadata": {
    "id": "oJvfgwWqpfDG"
   },
   "outputs": [],
   "source": [
    "config_text = text_format.MessageToString(pipeline_config)                                                                                                                                                                                                        \n",
    "with tf.io.gfile.GFile(files['PIPELINE_CONFIG'], \"wb\") as f:                                                                                                                                                                                                                     \n",
    "    f.write(config_text)   "
   ]
  },
  {
   "cell_type": "markdown",
   "metadata": {
    "id": "Zr3ON7xMpfDG"
   },
   "source": [
    "# 6. Train the model"
   ]
  },
  {
   "cell_type": "code",
   "execution_count": 40,
   "metadata": {
    "id": "B-Y2UQmQpfDG"
   },
   "outputs": [],
   "source": [
    "TRAINING_SCRIPT = os.path.join(paths['APIMODEL_PATH'], 'research', 'object_detection', 'model_main_tf2.py')"
   ]
  },
  {
   "cell_type": "code",
   "execution_count": 41,
   "metadata": {
    "id": "jMP2XDfQpfDH"
   },
   "outputs": [],
   "source": [
    "command = \"python {} --model_dir={} --pipeline_config_path={} --num_train_steps=2000\".format(TRAINING_SCRIPT, paths['CHECKPOINT_PATH'],files['PIPELINE_CONFIG'])"
   ]
  },
  {
   "cell_type": "code",
   "execution_count": 42,
   "metadata": {
    "colab": {
     "base_uri": "https://localhost:8080/"
    },
    "id": "A4OXXi-ApfDH",
    "outputId": "117a0e83-012b-466e-b7a6-ccaa349ac5ab"
   },
   "outputs": [
    {
     "name": "stdout",
     "output_type": "stream",
     "text": [
      "python ../src/models/research/object_detection/model_main_tf2.py --model_dir=../models/tuned-model --pipeline_config_path=../models/tuned-model/pipeline.config --num_train_steps=2000\n"
     ]
    }
   ],
   "source": [
    "print(command)"
   ]
  },
  {
   "cell_type": "code",
   "execution_count": 20,
   "metadata": {
    "colab": {
     "base_uri": "https://localhost:8080/"
    },
    "id": "i3ZsJR-qpfDH",
    "outputId": "cabec5e1-45e6-4f2f-d9cf-297d9c1d0225"
   },
   "outputs": [
    {
     "name": "stdout",
     "output_type": "stream",
     "text": [
      "2024-05-25 10:33:08.348860: I tensorflow/tsl/cuda/cudart_stub.cc:28] Could not find cuda drivers on your machine, GPU will not be used.\n",
      "2024-05-25 10:33:08.379219: I tensorflow/tsl/cuda/cudart_stub.cc:28] Could not find cuda drivers on your machine, GPU will not be used.\n",
      "2024-05-25 10:33:08.379677: I tensorflow/core/platform/cpu_feature_guard.cc:182] This TensorFlow binary is optimized to use available CPU instructions in performance-critical operations.\n",
      "To enable the following instructions: AVX2 FMA, in other operations, rebuild TensorFlow with the appropriate compiler flags.\n",
      "2024-05-25 10:33:09.060029: W tensorflow/compiler/tf2tensorrt/utils/py_utils.cc:38] TF-TRT Warning: Could not find TensorRT\n",
      "INFO:tensorflow:Using MirroredStrategy with devices ('/job:localhost/replica:0/task:0/device:CPU:0',)\n",
      "I0525 10:33:10.616311 135499983955136 mirrored_strategy.py:419] Using MirroredStrategy with devices ('/job:localhost/replica:0/task:0/device:CPU:0',)\n",
      "INFO:tensorflow:Maybe overwriting train_steps: 2000\n",
      "I0525 10:33:10.632989 135499983955136 config_util.py:552] Maybe overwriting train_steps: 2000\n",
      "INFO:tensorflow:Maybe overwriting use_bfloat16: False\n",
      "I0525 10:33:10.633141 135499983955136 config_util.py:552] Maybe overwriting use_bfloat16: False\n",
      "I0525 10:33:10.640005 135499983955136 ssd_efficientnet_bifpn_feature_extractor.py:161] EfficientDet EfficientNet backbone version: efficientnet-b0\n",
      "I0525 10:33:10.640147 135499983955136 ssd_efficientnet_bifpn_feature_extractor.py:163] EfficientDet BiFPN num filters: 64\n",
      "I0525 10:33:10.640200 135499983955136 ssd_efficientnet_bifpn_feature_extractor.py:164] EfficientDet BiFPN num iterations: 3\n",
      "I0525 10:33:10.644455 135499983955136 efficientnet_model.py:143] round_filter input=32 output=32\n",
      "I0525 10:33:10.674366 135499983955136 efficientnet_model.py:143] round_filter input=32 output=32\n",
      "I0525 10:33:10.674501 135499983955136 efficientnet_model.py:143] round_filter input=16 output=16\n",
      "I0525 10:33:10.740485 135499983955136 efficientnet_model.py:143] round_filter input=16 output=16\n",
      "I0525 10:33:10.740619 135499983955136 efficientnet_model.py:143] round_filter input=24 output=24\n",
      "I0525 10:33:10.912528 135499983955136 efficientnet_model.py:143] round_filter input=24 output=24\n",
      "I0525 10:33:10.912659 135499983955136 efficientnet_model.py:143] round_filter input=40 output=40\n",
      "I0525 10:33:11.069837 135499983955136 efficientnet_model.py:143] round_filter input=40 output=40\n",
      "I0525 10:33:11.069946 135499983955136 efficientnet_model.py:143] round_filter input=80 output=80\n",
      "I0525 10:33:11.285655 135499983955136 efficientnet_model.py:143] round_filter input=80 output=80\n",
      "I0525 10:33:11.285764 135499983955136 efficientnet_model.py:143] round_filter input=112 output=112\n",
      "I0525 10:33:11.503440 135499983955136 efficientnet_model.py:143] round_filter input=112 output=112\n",
      "I0525 10:33:11.503550 135499983955136 efficientnet_model.py:143] round_filter input=192 output=192\n",
      "I0525 10:33:11.799380 135499983955136 efficientnet_model.py:143] round_filter input=192 output=192\n",
      "I0525 10:33:11.799497 135499983955136 efficientnet_model.py:143] round_filter input=320 output=320\n",
      "I0525 10:33:11.875621 135499983955136 efficientnet_model.py:143] round_filter input=1280 output=1280\n",
      "I0525 10:33:11.918100 135499983955136 efficientnet_model.py:453] Building model efficientnet with params ModelConfig(width_coefficient=1.0, depth_coefficient=1.0, resolution=224, dropout_rate=0.2, blocks=(BlockConfig(input_filters=32, output_filters=16, kernel_size=3, num_repeat=1, expand_ratio=1, strides=(1, 1), se_ratio=0.25, id_skip=True, fused_conv=False, conv_type='depthwise'), BlockConfig(input_filters=16, output_filters=24, kernel_size=3, num_repeat=2, expand_ratio=6, strides=(2, 2), se_ratio=0.25, id_skip=True, fused_conv=False, conv_type='depthwise'), BlockConfig(input_filters=24, output_filters=40, kernel_size=5, num_repeat=2, expand_ratio=6, strides=(2, 2), se_ratio=0.25, id_skip=True, fused_conv=False, conv_type='depthwise'), BlockConfig(input_filters=40, output_filters=80, kernel_size=3, num_repeat=3, expand_ratio=6, strides=(2, 2), se_ratio=0.25, id_skip=True, fused_conv=False, conv_type='depthwise'), BlockConfig(input_filters=80, output_filters=112, kernel_size=5, num_repeat=3, expand_ratio=6, strides=(1, 1), se_ratio=0.25, id_skip=True, fused_conv=False, conv_type='depthwise'), BlockConfig(input_filters=112, output_filters=192, kernel_size=5, num_repeat=4, expand_ratio=6, strides=(2, 2), se_ratio=0.25, id_skip=True, fused_conv=False, conv_type='depthwise'), BlockConfig(input_filters=192, output_filters=320, kernel_size=3, num_repeat=1, expand_ratio=6, strides=(1, 1), se_ratio=0.25, id_skip=True, fused_conv=False, conv_type='depthwise')), stem_base_filters=32, top_base_filters=1280, activation='simple_swish', batch_norm='default', bn_momentum=0.99, bn_epsilon=0.001, weight_decay=5e-06, drop_connect_rate=0.2, depth_divisor=8, min_depth=None, use_se=True, input_channels=3, num_classes=1000, model_name='efficientnet', rescale_input=False, data_format='channels_last', dtype='float32')\n",
      "WARNING:tensorflow:From /home/tinapyp/Dependencies/miniconda3/envs/tfod/lib/python3.10/site-packages/object_detection/model_lib_v2.py:563: StrategyBase.experimental_distribute_datasets_from_function (from tensorflow.python.distribute.distribute_lib) is deprecated and will be removed in a future version.\n",
      "Instructions for updating:\n",
      "rename to distribute_datasets_from_function\n",
      "W0525 10:33:12.110340 135499983955136 deprecation.py:364] From /home/tinapyp/Dependencies/miniconda3/envs/tfod/lib/python3.10/site-packages/object_detection/model_lib_v2.py:563: StrategyBase.experimental_distribute_datasets_from_function (from tensorflow.python.distribute.distribute_lib) is deprecated and will be removed in a future version.\n",
      "Instructions for updating:\n",
      "rename to distribute_datasets_from_function\n",
      "INFO:tensorflow:Reading unweighted datasets: ['Tensorflow/workspace/annotations/train.record']\n",
      "I0525 10:33:12.115982 135499983955136 dataset_builder.py:162] Reading unweighted datasets: ['Tensorflow/workspace/annotations/train.record']\n",
      "INFO:tensorflow:Reading record datasets for input file: ['Tensorflow/workspace/annotations/train.record']\n",
      "I0525 10:33:12.116121 135499983955136 dataset_builder.py:79] Reading record datasets for input file: ['Tensorflow/workspace/annotations/train.record']\n",
      "INFO:tensorflow:Number of filenames to read: 1\n",
      "I0525 10:33:12.116169 135499983955136 dataset_builder.py:80] Number of filenames to read: 1\n",
      "WARNING:tensorflow:num_readers has been reduced to 1 to match input file shards.\n",
      "W0525 10:33:12.116204 135499983955136 dataset_builder.py:86] num_readers has been reduced to 1 to match input file shards.\n",
      "WARNING:tensorflow:From /home/tinapyp/Dependencies/miniconda3/envs/tfod/lib/python3.10/site-packages/object_detection/builders/dataset_builder.py:100: parallel_interleave (from tensorflow.python.data.experimental.ops.interleave_ops) is deprecated and will be removed in a future version.\n",
      "Instructions for updating:\n",
      "Use `tf.data.Dataset.interleave(map_func, cycle_length, block_length, num_parallel_calls=tf.data.AUTOTUNE)` instead. If sloppy execution is desired, use `tf.data.Options.deterministic`.\n",
      "W0525 10:33:12.120225 135499983955136 deprecation.py:364] From /home/tinapyp/Dependencies/miniconda3/envs/tfod/lib/python3.10/site-packages/object_detection/builders/dataset_builder.py:100: parallel_interleave (from tensorflow.python.data.experimental.ops.interleave_ops) is deprecated and will be removed in a future version.\n",
      "Instructions for updating:\n",
      "Use `tf.data.Dataset.interleave(map_func, cycle_length, block_length, num_parallel_calls=tf.data.AUTOTUNE)` instead. If sloppy execution is desired, use `tf.data.Options.deterministic`.\n",
      "WARNING:tensorflow:From /home/tinapyp/Dependencies/miniconda3/envs/tfod/lib/python3.10/site-packages/object_detection/builders/dataset_builder.py:235: DatasetV1.map_with_legacy_function (from tensorflow.python.data.ops.dataset_ops) is deprecated and will be removed in a future version.\n",
      "Instructions for updating:\n",
      "Use `tf.data.Dataset.map()\n",
      "W0525 10:33:12.131986 135499983955136 deprecation.py:364] From /home/tinapyp/Dependencies/miniconda3/envs/tfod/lib/python3.10/site-packages/object_detection/builders/dataset_builder.py:235: DatasetV1.map_with_legacy_function (from tensorflow.python.data.ops.dataset_ops) is deprecated and will be removed in a future version.\n",
      "Instructions for updating:\n",
      "Use `tf.data.Dataset.map()\n",
      "WARNING:tensorflow:From /home/tinapyp/Dependencies/miniconda3/envs/tfod/lib/python3.10/site-packages/tensorflow/python/util/dispatch.py:1176: sparse_to_dense (from tensorflow.python.ops.sparse_ops) is deprecated and will be removed in a future version.\n",
      "Instructions for updating:\n",
      "Create a `tf.sparse.SparseTensor` and use `tf.sparse.to_dense` instead.\n",
      "W0525 10:33:16.638007 135499983955136 deprecation.py:364] From /home/tinapyp/Dependencies/miniconda3/envs/tfod/lib/python3.10/site-packages/tensorflow/python/util/dispatch.py:1176: sparse_to_dense (from tensorflow.python.ops.sparse_ops) is deprecated and will be removed in a future version.\n",
      "Instructions for updating:\n",
      "Create a `tf.sparse.SparseTensor` and use `tf.sparse.to_dense` instead.\n",
      "WARNING:tensorflow:From /home/tinapyp/Dependencies/miniconda3/envs/tfod/lib/python3.10/site-packages/tensorflow/python/util/dispatch.py:1176: to_float (from tensorflow.python.ops.math_ops) is deprecated and will be removed in a future version.\n",
      "Instructions for updating:\n",
      "Use `tf.cast` instead.\n",
      "W0525 10:33:19.273874 135499983955136 deprecation.py:364] From /home/tinapyp/Dependencies/miniconda3/envs/tfod/lib/python3.10/site-packages/tensorflow/python/util/dispatch.py:1176: to_float (from tensorflow.python.ops.math_ops) is deprecated and will be removed in a future version.\n",
      "Instructions for updating:\n",
      "Use `tf.cast` instead.\n",
      "2024-05-25 10:33:20.849883: W tensorflow/core/framework/dataset.cc:956] Input of GeneratorDatasetOp::Dataset will not be optimized because the dataset does not implement the AsGraphDefInternal() method needed to apply optimizations.\n",
      "/home/tinapyp/Dependencies/miniconda3/envs/tfod/lib/python3.10/site-packages/keras/src/backend.py:452: UserWarning: `tf.keras.backend.set_learning_phase` is deprecated and will be removed after 2020-10-11. To update it, simply pass a True/False value to the `training` argument of the `__call__` method of your layer or model.\n",
      "  warnings.warn(\n",
      "I0525 10:33:24.081492 135495747110592 api.py:460] feature_map_spatial_dims: [(64, 64), (32, 32), (16, 16), (8, 8), (4, 4)]\n",
      "I0525 10:33:29.979338 135495747110592 api.py:460] feature_map_spatial_dims: [(64, 64), (32, 32), (16, 16), (8, 8), (4, 4)]\n",
      "WARNING:tensorflow:From /home/tinapyp/Dependencies/miniconda3/envs/tfod/lib/python3.10/site-packages/tensorflow/python/util/deprecation.py:648: calling map_fn_v2 (from tensorflow.python.ops.map_fn) with dtype is deprecated and will be removed in a future version.\n",
      "Instructions for updating:\n",
      "Use fn_output_signature instead\n",
      "W0525 10:33:35.342867 135496005060288 deprecation.py:569] From /home/tinapyp/Dependencies/miniconda3/envs/tfod/lib/python3.10/site-packages/tensorflow/python/util/deprecation.py:648: calling map_fn_v2 (from tensorflow.python.ops.map_fn) with dtype is deprecated and will be removed in a future version.\n",
      "Instructions for updating:\n",
      "Use fn_output_signature instead\n",
      "I0525 10:33:36.618602 135496005060288 api.py:460] feature_map_spatial_dims: [(64, 64), (32, 32), (16, 16), (8, 8), (4, 4)]\n",
      "WARNING:tensorflow:Gradients do not exist for variables ['top_bn/gamma:0', 'top_bn/beta:0'] when minimizing the loss. If you're using `model.compile()`, did you forget to provide a `loss` argument?\n",
      "W0525 10:33:40.069076 135496005060288 utils.py:82] Gradients do not exist for variables ['top_bn/gamma:0', 'top_bn/beta:0'] when minimizing the loss. If you're using `model.compile()`, did you forget to provide a `loss` argument?\n",
      "I0525 10:33:42.604597 135496005060288 api.py:460] feature_map_spatial_dims: [(64, 64), (32, 32), (16, 16), (8, 8), (4, 4)]\n",
      "WARNING:tensorflow:Gradients do not exist for variables ['top_bn/gamma:0', 'top_bn/beta:0'] when minimizing the loss. If you're using `model.compile()`, did you forget to provide a `loss` argument?\n",
      "W0525 10:33:45.727189 135496005060288 utils.py:82] Gradients do not exist for variables ['top_bn/gamma:0', 'top_bn/beta:0'] when minimizing the loss. If you're using `model.compile()`, did you forget to provide a `loss` argument?\n",
      "I0525 10:33:48.199296 135496005060288 api.py:460] feature_map_spatial_dims: [(64, 64), (32, 32), (16, 16), (8, 8), (4, 4)]\n",
      "WARNING:tensorflow:Gradients do not exist for variables ['top_bn/gamma:0', 'top_bn/beta:0'] when minimizing the loss. If you're using `model.compile()`, did you forget to provide a `loss` argument?\n",
      "W0525 10:33:51.335308 135496005060288 utils.py:82] Gradients do not exist for variables ['top_bn/gamma:0', 'top_bn/beta:0'] when minimizing the loss. If you're using `model.compile()`, did you forget to provide a `loss` argument?\n",
      "I0525 10:33:53.698598 135496005060288 api.py:460] feature_map_spatial_dims: [(64, 64), (32, 32), (16, 16), (8, 8), (4, 4)]\n",
      "WARNING:tensorflow:Gradients do not exist for variables ['top_bn/gamma:0', 'top_bn/beta:0'] when minimizing the loss. If you're using `model.compile()`, did you forget to provide a `loss` argument?\n",
      "W0525 10:33:57.373559 135496005060288 utils.py:82] Gradients do not exist for variables ['top_bn/gamma:0', 'top_bn/beta:0'] when minimizing the loss. If you're using `model.compile()`, did you forget to provide a `loss` argument?\n",
      "INFO:tensorflow:Step 100 per-step time 1.745s\n",
      "I0525 10:36:29.644788 135499983955136 model_lib_v2.py:705] Step 100 per-step time 1.745s\n",
      "INFO:tensorflow:{'Loss/classification_loss': 1.2245277,\n",
      " 'Loss/localization_loss': 0.019237116,\n",
      " 'Loss/regularization_loss': 0.02834038,\n",
      " 'Loss/total_loss': 1.2721052,\n",
      " 'learning_rate': 0.00416}\n",
      "I0525 10:36:29.645478 135499983955136 model_lib_v2.py:708] {'Loss/classification_loss': 1.2245277,\n",
      " 'Loss/localization_loss': 0.019237116,\n",
      " 'Loss/regularization_loss': 0.02834038,\n",
      " 'Loss/total_loss': 1.2721052,\n",
      " 'learning_rate': 0.00416}\n",
      "INFO:tensorflow:Step 200 per-step time 1.401s\n",
      "I0525 10:38:49.717752 135499983955136 model_lib_v2.py:705] Step 200 per-step time 1.401s\n",
      "INFO:tensorflow:{'Loss/classification_loss': 0.96429455,\n",
      " 'Loss/localization_loss': 0.013394843,\n",
      " 'Loss/regularization_loss': 0.028343393,\n",
      " 'Loss/total_loss': 1.0060328,\n",
      " 'learning_rate': 0.0073200003}\n",
      "I0525 10:38:49.717977 135499983955136 model_lib_v2.py:708] {'Loss/classification_loss': 0.96429455,\n",
      " 'Loss/localization_loss': 0.013394843,\n",
      " 'Loss/regularization_loss': 0.028343393,\n",
      " 'Loss/total_loss': 1.0060328,\n",
      " 'learning_rate': 0.0073200003}\n",
      "INFO:tensorflow:Step 300 per-step time 1.385s\n",
      "I0525 10:41:08.188692 135499983955136 model_lib_v2.py:705] Step 300 per-step time 1.385s\n",
      "INFO:tensorflow:{'Loss/classification_loss': 0.85407037,\n",
      " 'Loss/localization_loss': 0.008335288,\n",
      " 'Loss/regularization_loss': 0.028384097,\n",
      " 'Loss/total_loss': 0.89078975,\n",
      " 'learning_rate': 0.010480001}\n",
      "I0525 10:41:08.188896 135499983955136 model_lib_v2.py:708] {'Loss/classification_loss': 0.85407037,\n",
      " 'Loss/localization_loss': 0.008335288,\n",
      " 'Loss/regularization_loss': 0.028384097,\n",
      " 'Loss/total_loss': 0.89078975,\n",
      " 'learning_rate': 0.010480001}\n",
      "INFO:tensorflow:Step 400 per-step time 1.384s\n",
      "I0525 10:43:26.564794 135499983955136 model_lib_v2.py:705] Step 400 per-step time 1.384s\n",
      "INFO:tensorflow:{'Loss/classification_loss': 0.8283318,\n",
      " 'Loss/localization_loss': 0.009681238,\n",
      " 'Loss/regularization_loss': 0.028430166,\n",
      " 'Loss/total_loss': 0.8664432,\n",
      " 'learning_rate': 0.0136400005}\n",
      "I0525 10:43:26.565004 135499983955136 model_lib_v2.py:708] {'Loss/classification_loss': 0.8283318,\n",
      " 'Loss/localization_loss': 0.009681238,\n",
      " 'Loss/regularization_loss': 0.028430166,\n",
      " 'Loss/total_loss': 0.8664432,\n",
      " 'learning_rate': 0.0136400005}\n",
      "INFO:tensorflow:Step 500 per-step time 1.384s\n",
      "I0525 10:45:44.919856 135499983955136 model_lib_v2.py:705] Step 500 per-step time 1.384s\n",
      "INFO:tensorflow:{'Loss/classification_loss': 0.6983437,\n",
      " 'Loss/localization_loss': 0.0077179964,\n",
      " 'Loss/regularization_loss': 0.02845876,\n",
      " 'Loss/total_loss': 0.73452044,\n",
      " 'learning_rate': 0.016800001}\n",
      "I0525 10:45:44.920069 135499983955136 model_lib_v2.py:708] {'Loss/classification_loss': 0.6983437,\n",
      " 'Loss/localization_loss': 0.0077179964,\n",
      " 'Loss/regularization_loss': 0.02845876,\n",
      " 'Loss/total_loss': 0.73452044,\n",
      " 'learning_rate': 0.016800001}\n",
      "INFO:tensorflow:Step 600 per-step time 1.377s\n",
      "I0525 10:48:02.636369 135499983955136 model_lib_v2.py:705] Step 600 per-step time 1.377s\n",
      "INFO:tensorflow:{'Loss/classification_loss': 0.7444082,\n",
      " 'Loss/localization_loss': 0.008262302,\n",
      " 'Loss/regularization_loss': 0.028515577,\n",
      " 'Loss/total_loss': 0.78118604,\n",
      " 'learning_rate': 0.019960001}\n",
      "I0525 10:48:02.636581 135499983955136 model_lib_v2.py:708] {'Loss/classification_loss': 0.7444082,\n",
      " 'Loss/localization_loss': 0.008262302,\n",
      " 'Loss/regularization_loss': 0.028515577,\n",
      " 'Loss/total_loss': 0.78118604,\n",
      " 'learning_rate': 0.019960001}\n",
      "INFO:tensorflow:Step 700 per-step time 1.380s\n",
      "I0525 10:50:20.628710 135499983955136 model_lib_v2.py:705] Step 700 per-step time 1.380s\n",
      "INFO:tensorflow:{'Loss/classification_loss': 0.66429096,\n",
      " 'Loss/localization_loss': 0.0085146725,\n",
      " 'Loss/regularization_loss': 0.028588342,\n",
      " 'Loss/total_loss': 0.70139396,\n",
      " 'learning_rate': 0.023120001}\n",
      "I0525 10:50:20.628921 135499983955136 model_lib_v2.py:708] {'Loss/classification_loss': 0.66429096,\n",
      " 'Loss/localization_loss': 0.0085146725,\n",
      " 'Loss/regularization_loss': 0.028588342,\n",
      " 'Loss/total_loss': 0.70139396,\n",
      " 'learning_rate': 0.023120001}\n",
      "INFO:tensorflow:Step 800 per-step time 1.378s\n",
      "I0525 10:52:38.434896 135499983955136 model_lib_v2.py:705] Step 800 per-step time 1.378s\n",
      "INFO:tensorflow:{'Loss/classification_loss': 0.74590385,\n",
      " 'Loss/localization_loss': 0.0080099385,\n",
      " 'Loss/regularization_loss': 0.02880831,\n",
      " 'Loss/total_loss': 0.7827221,\n",
      " 'learning_rate': 0.02628}\n",
      "I0525 10:52:38.435095 135499983955136 model_lib_v2.py:708] {'Loss/classification_loss': 0.74590385,\n",
      " 'Loss/localization_loss': 0.0080099385,\n",
      " 'Loss/regularization_loss': 0.02880831,\n",
      " 'Loss/total_loss': 0.7827221,\n",
      " 'learning_rate': 0.02628}\n",
      "INFO:tensorflow:Step 900 per-step time 1.374s\n",
      "I0525 10:54:55.868090 135499983955136 model_lib_v2.py:705] Step 900 per-step time 1.374s\n",
      "INFO:tensorflow:{'Loss/classification_loss': 0.664389,\n",
      " 'Loss/localization_loss': 0.0064832354,\n",
      " 'Loss/regularization_loss': 0.029562976,\n",
      " 'Loss/total_loss': 0.7004352,\n",
      " 'learning_rate': 0.02944}\n",
      "I0525 10:54:55.868290 135499983955136 model_lib_v2.py:708] {'Loss/classification_loss': 0.664389,\n",
      " 'Loss/localization_loss': 0.0064832354,\n",
      " 'Loss/regularization_loss': 0.029562976,\n",
      " 'Loss/total_loss': 0.7004352,\n",
      " 'learning_rate': 0.02944}\n",
      "INFO:tensorflow:Step 1000 per-step time 1.379s\n",
      "I0525 10:57:13.759118 135499983955136 model_lib_v2.py:705] Step 1000 per-step time 1.379s\n",
      "INFO:tensorflow:{'Loss/classification_loss': 0.50400466,\n",
      " 'Loss/localization_loss': 0.0062722582,\n",
      " 'Loss/regularization_loss': 0.0296605,\n",
      " 'Loss/total_loss': 0.53993744,\n",
      " 'learning_rate': 0.0326}\n",
      "I0525 10:57:13.759325 135499983955136 model_lib_v2.py:708] {'Loss/classification_loss': 0.50400466,\n",
      " 'Loss/localization_loss': 0.0062722582,\n",
      " 'Loss/regularization_loss': 0.0296605,\n",
      " 'Loss/total_loss': 0.53993744,\n",
      " 'learning_rate': 0.0326}\n",
      "INFO:tensorflow:Step 1100 per-step time 1.381s\n",
      "I0525 10:59:31.902407 135499983955136 model_lib_v2.py:705] Step 1100 per-step time 1.381s\n",
      "INFO:tensorflow:{'Loss/classification_loss': 0.6931551,\n",
      " 'Loss/localization_loss': 0.007098825,\n",
      " 'Loss/regularization_loss': 0.02977248,\n",
      " 'Loss/total_loss': 0.7300264,\n",
      " 'learning_rate': 0.03576}\n",
      "I0525 10:59:31.902617 135499983955136 model_lib_v2.py:708] {'Loss/classification_loss': 0.6931551,\n",
      " 'Loss/localization_loss': 0.007098825,\n",
      " 'Loss/regularization_loss': 0.02977248,\n",
      " 'Loss/total_loss': 0.7300264,\n",
      " 'learning_rate': 0.03576}\n",
      "INFO:tensorflow:Step 1200 per-step time 1.368s\n",
      "I0525 11:01:48.732541 135499983955136 model_lib_v2.py:705] Step 1200 per-step time 1.368s\n",
      "INFO:tensorflow:{'Loss/classification_loss': 0.70856035,\n",
      " 'Loss/localization_loss': 0.009047194,\n",
      " 'Loss/regularization_loss': 0.029851032,\n",
      " 'Loss/total_loss': 0.7474586,\n",
      " 'learning_rate': 0.03892}\n",
      "I0525 11:01:48.732790 135499983955136 model_lib_v2.py:708] {'Loss/classification_loss': 0.70856035,\n",
      " 'Loss/localization_loss': 0.009047194,\n",
      " 'Loss/regularization_loss': 0.029851032,\n",
      " 'Loss/total_loss': 0.7474586,\n",
      " 'learning_rate': 0.03892}\n",
      "INFO:tensorflow:Step 1300 per-step time 1.367s\n",
      "I0525 11:04:05.453047 135499983955136 model_lib_v2.py:705] Step 1300 per-step time 1.367s\n",
      "INFO:tensorflow:{'Loss/classification_loss': 0.46580595,\n",
      " 'Loss/localization_loss': 0.0035504682,\n",
      " 'Loss/regularization_loss': 0.029895041,\n",
      " 'Loss/total_loss': 0.49925146,\n",
      " 'learning_rate': 0.04208}\n",
      "I0525 11:04:05.453280 135499983955136 model_lib_v2.py:708] {'Loss/classification_loss': 0.46580595,\n",
      " 'Loss/localization_loss': 0.0035504682,\n",
      " 'Loss/regularization_loss': 0.029895041,\n",
      " 'Loss/total_loss': 0.49925146,\n",
      " 'learning_rate': 0.04208}\n",
      "INFO:tensorflow:Step 1400 per-step time 1.365s\n",
      "I0525 11:06:21.948740 135499983955136 model_lib_v2.py:705] Step 1400 per-step time 1.365s\n",
      "INFO:tensorflow:{'Loss/classification_loss': 0.46022144,\n",
      " 'Loss/localization_loss': 0.0037610703,\n",
      " 'Loss/regularization_loss': 0.029941075,\n",
      " 'Loss/total_loss': 0.49392357,\n",
      " 'learning_rate': 0.04524}\n",
      "I0525 11:06:21.948942 135499983955136 model_lib_v2.py:708] {'Loss/classification_loss': 0.46022144,\n",
      " 'Loss/localization_loss': 0.0037610703,\n",
      " 'Loss/regularization_loss': 0.029941075,\n",
      " 'Loss/total_loss': 0.49392357,\n",
      " 'learning_rate': 0.04524}\n",
      "INFO:tensorflow:Step 1500 per-step time 1.377s\n",
      "I0525 11:08:39.628988 135499983955136 model_lib_v2.py:705] Step 1500 per-step time 1.377s\n",
      "INFO:tensorflow:{'Loss/classification_loss': 0.55878645,\n",
      " 'Loss/localization_loss': 0.003650762,\n",
      " 'Loss/regularization_loss': 0.030101508,\n",
      " 'Loss/total_loss': 0.5925387,\n",
      " 'learning_rate': 0.0484}\n",
      "I0525 11:08:39.629187 135499983955136 model_lib_v2.py:708] {'Loss/classification_loss': 0.55878645,\n",
      " 'Loss/localization_loss': 0.003650762,\n",
      " 'Loss/regularization_loss': 0.030101508,\n",
      " 'Loss/total_loss': 0.5925387,\n",
      " 'learning_rate': 0.0484}\n",
      "INFO:tensorflow:Step 1600 per-step time 1.371s\n",
      "I0525 11:10:56.768422 135499983955136 model_lib_v2.py:705] Step 1600 per-step time 1.371s\n",
      "INFO:tensorflow:{'Loss/classification_loss': 0.46149355,\n",
      " 'Loss/localization_loss': 0.0058994517,\n",
      " 'Loss/regularization_loss': 0.030144118,\n",
      " 'Loss/total_loss': 0.49753714,\n",
      " 'learning_rate': 0.05156}\n",
      "I0525 11:10:56.768631 135499983955136 model_lib_v2.py:708] {'Loss/classification_loss': 0.46149355,\n",
      " 'Loss/localization_loss': 0.0058994517,\n",
      " 'Loss/regularization_loss': 0.030144118,\n",
      " 'Loss/total_loss': 0.49753714,\n",
      " 'learning_rate': 0.05156}\n",
      "INFO:tensorflow:Step 1700 per-step time 1.369s\n",
      "I0525 11:13:13.664008 135499983955136 model_lib_v2.py:705] Step 1700 per-step time 1.369s\n",
      "INFO:tensorflow:{'Loss/classification_loss': 0.47242674,\n",
      " 'Loss/localization_loss': 0.006638411,\n",
      " 'Loss/regularization_loss': 0.030280055,\n",
      " 'Loss/total_loss': 0.50934523,\n",
      " 'learning_rate': 0.05472}\n",
      "I0525 11:13:13.664230 135499983955136 model_lib_v2.py:708] {'Loss/classification_loss': 0.47242674,\n",
      " 'Loss/localization_loss': 0.006638411,\n",
      " 'Loss/regularization_loss': 0.030280055,\n",
      " 'Loss/total_loss': 0.50934523,\n",
      " 'learning_rate': 0.05472}\n",
      "INFO:tensorflow:Step 1800 per-step time 1.401s\n",
      "I0525 11:15:33.813220 135499983955136 model_lib_v2.py:705] Step 1800 per-step time 1.401s\n",
      "INFO:tensorflow:{'Loss/classification_loss': 0.324301,\n",
      " 'Loss/localization_loss': 0.0041884826,\n",
      " 'Loss/regularization_loss': 0.03032905,\n",
      " 'Loss/total_loss': 0.35881853,\n",
      " 'learning_rate': 0.05788}\n",
      "I0525 11:15:33.813469 135499983955136 model_lib_v2.py:708] {'Loss/classification_loss': 0.324301,\n",
      " 'Loss/localization_loss': 0.0041884826,\n",
      " 'Loss/regularization_loss': 0.03032905,\n",
      " 'Loss/total_loss': 0.35881853,\n",
      " 'learning_rate': 0.05788}\n",
      "INFO:tensorflow:Step 1900 per-step time 1.525s\n",
      "I0525 11:18:06.217940 135499983955136 model_lib_v2.py:705] Step 1900 per-step time 1.525s\n",
      "INFO:tensorflow:{'Loss/classification_loss': 0.40870807,\n",
      " 'Loss/localization_loss': 0.0034236177,\n",
      " 'Loss/regularization_loss': 0.030462362,\n",
      " 'Loss/total_loss': 0.44259405,\n",
      " 'learning_rate': 0.06104}\n",
      "I0525 11:18:06.218158 135499983955136 model_lib_v2.py:708] {'Loss/classification_loss': 0.40870807,\n",
      " 'Loss/localization_loss': 0.0034236177,\n",
      " 'Loss/regularization_loss': 0.030462362,\n",
      " 'Loss/total_loss': 0.44259405,\n",
      " 'learning_rate': 0.06104}\n",
      "INFO:tensorflow:Step 2000 per-step time 1.527s\n",
      "I0525 11:20:38.903900 135499983955136 model_lib_v2.py:705] Step 2000 per-step time 1.527s\n",
      "INFO:tensorflow:{'Loss/classification_loss': 0.51690626,\n",
      " 'Loss/localization_loss': 0.0037659341,\n",
      " 'Loss/regularization_loss': 0.030557452,\n",
      " 'Loss/total_loss': 0.55122966,\n",
      " 'learning_rate': 0.06420001}\n",
      "I0525 11:20:38.904095 135499983955136 model_lib_v2.py:708] {'Loss/classification_loss': 0.51690626,\n",
      " 'Loss/localization_loss': 0.0037659341,\n",
      " 'Loss/regularization_loss': 0.030557452,\n",
      " 'Loss/total_loss': 0.55122966,\n",
      " 'learning_rate': 0.06420001}\n"
     ]
    }
   ],
   "source": [
    "!{command}"
   ]
  },
  {
   "cell_type": "markdown",
   "metadata": {
    "id": "4_YRZu7npfDH"
   },
   "source": [
    "# 7. Evaluate the Model"
   ]
  },
  {
   "cell_type": "code",
   "execution_count": 43,
   "metadata": {
    "id": "80L7-fdPpfDH"
   },
   "outputs": [],
   "source": [
    "command = \"python {} --model_dir={} --pipeline_config_path={} --checkpoint_dir={}\".format(TRAINING_SCRIPT, paths['CHECKPOINT_PATH'],files['PIPELINE_CONFIG'], paths['CHECKPOINT_PATH'])"
   ]
  },
  {
   "cell_type": "code",
   "execution_count": 44,
   "metadata": {
    "colab": {
     "base_uri": "https://localhost:8080/"
    },
    "id": "lYsgEPx9pfDH",
    "outputId": "8632d48b-91d2-45d9-bcb8-c1b172bf6eed"
   },
   "outputs": [
    {
     "name": "stdout",
     "output_type": "stream",
     "text": [
      "python ../src/models/research/object_detection/model_main_tf2.py --model_dir=../models/tuned-model --pipeline_config_path=../models/tuned-model/pipeline.config --checkpoint_dir=../models/tuned-model\n"
     ]
    }
   ],
   "source": [
    "print(command)"
   ]
  },
  {
   "cell_type": "code",
   "execution_count": 41,
   "metadata": {
    "id": "lqTV2jGBpfDH"
   },
   "outputs": [
    {
     "name": "stdout",
     "output_type": "stream",
     "text": [
      "2024-05-25 11:28:30.029582: I tensorflow/tsl/cuda/cudart_stub.cc:28] Could not find cuda drivers on your machine, GPU will not be used.\n",
      "2024-05-25 11:28:30.070772: I tensorflow/tsl/cuda/cudart_stub.cc:28] Could not find cuda drivers on your machine, GPU will not be used.\n",
      "2024-05-25 11:28:30.071442: I tensorflow/core/platform/cpu_feature_guard.cc:182] This TensorFlow binary is optimized to use available CPU instructions in performance-critical operations.\n",
      "To enable the following instructions: AVX2 FMA, in other operations, rebuild TensorFlow with the appropriate compiler flags.\n",
      "2024-05-25 11:28:30.863821: W tensorflow/compiler/tf2tensorrt/utils/py_utils.cc:38] TF-TRT Warning: Could not find TensorRT\n",
      "WARNING:tensorflow:Forced number of epochs for all eval validations to be 1.\n",
      "W0525 11:28:32.462214 129003168306688 model_lib_v2.py:1089] Forced number of epochs for all eval validations to be 1.\n",
      "INFO:tensorflow:Maybe overwriting sample_1_of_n_eval_examples: None\n",
      "I0525 11:28:32.462358 129003168306688 config_util.py:552] Maybe overwriting sample_1_of_n_eval_examples: None\n",
      "INFO:tensorflow:Maybe overwriting use_bfloat16: False\n",
      "I0525 11:28:32.462402 129003168306688 config_util.py:552] Maybe overwriting use_bfloat16: False\n",
      "INFO:tensorflow:Maybe overwriting eval_num_epochs: 1\n",
      "I0525 11:28:32.462442 129003168306688 config_util.py:552] Maybe overwriting eval_num_epochs: 1\n",
      "WARNING:tensorflow:Expected number of evaluation epochs is 1, but instead encountered `eval_on_train_input_config.num_epochs` = 0. Overwriting `num_epochs` to 1.\n",
      "W0525 11:28:32.462504 129003168306688 model_lib_v2.py:1106] Expected number of evaluation epochs is 1, but instead encountered `eval_on_train_input_config.num_epochs` = 0. Overwriting `num_epochs` to 1.\n",
      "I0525 11:28:32.480861 129003168306688 ssd_efficientnet_bifpn_feature_extractor.py:161] EfficientDet EfficientNet backbone version: efficientnet-b0\n",
      "I0525 11:28:32.480979 129003168306688 ssd_efficientnet_bifpn_feature_extractor.py:163] EfficientDet BiFPN num filters: 64\n",
      "I0525 11:28:32.481010 129003168306688 ssd_efficientnet_bifpn_feature_extractor.py:164] EfficientDet BiFPN num iterations: 3\n",
      "I0525 11:28:32.484739 129003168306688 efficientnet_model.py:143] round_filter input=32 output=32\n",
      "I0525 11:28:32.506084 129003168306688 efficientnet_model.py:143] round_filter input=32 output=32\n",
      "I0525 11:28:32.506232 129003168306688 efficientnet_model.py:143] round_filter input=16 output=16\n",
      "I0525 11:28:32.561888 129003168306688 efficientnet_model.py:143] round_filter input=16 output=16\n",
      "I0525 11:28:32.562041 129003168306688 efficientnet_model.py:143] round_filter input=24 output=24\n",
      "I0525 11:28:32.699484 129003168306688 efficientnet_model.py:143] round_filter input=24 output=24\n",
      "I0525 11:28:32.699600 129003168306688 efficientnet_model.py:143] round_filter input=40 output=40\n",
      "I0525 11:28:32.825927 129003168306688 efficientnet_model.py:143] round_filter input=40 output=40\n",
      "I0525 11:28:32.826038 129003168306688 efficientnet_model.py:143] round_filter input=80 output=80\n",
      "I0525 11:28:33.009275 129003168306688 efficientnet_model.py:143] round_filter input=80 output=80\n",
      "I0525 11:28:33.009386 129003168306688 efficientnet_model.py:143] round_filter input=112 output=112\n",
      "I0525 11:28:33.192111 129003168306688 efficientnet_model.py:143] round_filter input=112 output=112\n",
      "I0525 11:28:33.192235 129003168306688 efficientnet_model.py:143] round_filter input=192 output=192\n",
      "I0525 11:28:33.439307 129003168306688 efficientnet_model.py:143] round_filter input=192 output=192\n",
      "I0525 11:28:33.439501 129003168306688 efficientnet_model.py:143] round_filter input=320 output=320\n",
      "I0525 11:28:33.499702 129003168306688 efficientnet_model.py:143] round_filter input=1280 output=1280\n",
      "I0525 11:28:33.540631 129003168306688 efficientnet_model.py:453] Building model efficientnet with params ModelConfig(width_coefficient=1.0, depth_coefficient=1.0, resolution=224, dropout_rate=0.2, blocks=(BlockConfig(input_filters=32, output_filters=16, kernel_size=3, num_repeat=1, expand_ratio=1, strides=(1, 1), se_ratio=0.25, id_skip=True, fused_conv=False, conv_type='depthwise'), BlockConfig(input_filters=16, output_filters=24, kernel_size=3, num_repeat=2, expand_ratio=6, strides=(2, 2), se_ratio=0.25, id_skip=True, fused_conv=False, conv_type='depthwise'), BlockConfig(input_filters=24, output_filters=40, kernel_size=5, num_repeat=2, expand_ratio=6, strides=(2, 2), se_ratio=0.25, id_skip=True, fused_conv=False, conv_type='depthwise'), BlockConfig(input_filters=40, output_filters=80, kernel_size=3, num_repeat=3, expand_ratio=6, strides=(2, 2), se_ratio=0.25, id_skip=True, fused_conv=False, conv_type='depthwise'), BlockConfig(input_filters=80, output_filters=112, kernel_size=5, num_repeat=3, expand_ratio=6, strides=(1, 1), se_ratio=0.25, id_skip=True, fused_conv=False, conv_type='depthwise'), BlockConfig(input_filters=112, output_filters=192, kernel_size=5, num_repeat=4, expand_ratio=6, strides=(2, 2), se_ratio=0.25, id_skip=True, fused_conv=False, conv_type='depthwise'), BlockConfig(input_filters=192, output_filters=320, kernel_size=3, num_repeat=1, expand_ratio=6, strides=(1, 1), se_ratio=0.25, id_skip=True, fused_conv=False, conv_type='depthwise')), stem_base_filters=32, top_base_filters=1280, activation='simple_swish', batch_norm='default', bn_momentum=0.99, bn_epsilon=0.001, weight_decay=5e-06, drop_connect_rate=0.2, depth_divisor=8, min_depth=None, use_se=True, input_channels=3, num_classes=1000, model_name='efficientnet', rescale_input=False, data_format='channels_last', dtype='float32')\n",
      "INFO:tensorflow:Reading unweighted datasets: ['Tensorflow/workspace/annotations/test.record']\n",
      "I0525 11:28:33.578438 129003168306688 dataset_builder.py:162] Reading unweighted datasets: ['Tensorflow/workspace/annotations/test.record']\n",
      "INFO:tensorflow:Reading record datasets for input file: ['Tensorflow/workspace/annotations/test.record']\n",
      "I0525 11:28:33.578606 129003168306688 dataset_builder.py:79] Reading record datasets for input file: ['Tensorflow/workspace/annotations/test.record']\n",
      "INFO:tensorflow:Number of filenames to read: 1\n",
      "I0525 11:28:33.578643 129003168306688 dataset_builder.py:80] Number of filenames to read: 1\n",
      "WARNING:tensorflow:num_readers has been reduced to 1 to match input file shards.\n",
      "W0525 11:28:33.578685 129003168306688 dataset_builder.py:86] num_readers has been reduced to 1 to match input file shards.\n",
      "WARNING:tensorflow:From /home/tinapyp/Dependencies/miniconda3/envs/tfod/lib/python3.10/site-packages/object_detection/builders/dataset_builder.py:100: parallel_interleave (from tensorflow.python.data.experimental.ops.interleave_ops) is deprecated and will be removed in a future version.\n",
      "Instructions for updating:\n",
      "Use `tf.data.Dataset.interleave(map_func, cycle_length, block_length, num_parallel_calls=tf.data.AUTOTUNE)` instead. If sloppy execution is desired, use `tf.data.Options.deterministic`.\n",
      "W0525 11:28:33.580571 129003168306688 deprecation.py:364] From /home/tinapyp/Dependencies/miniconda3/envs/tfod/lib/python3.10/site-packages/object_detection/builders/dataset_builder.py:100: parallel_interleave (from tensorflow.python.data.experimental.ops.interleave_ops) is deprecated and will be removed in a future version.\n",
      "Instructions for updating:\n",
      "Use `tf.data.Dataset.interleave(map_func, cycle_length, block_length, num_parallel_calls=tf.data.AUTOTUNE)` instead. If sloppy execution is desired, use `tf.data.Options.deterministic`.\n",
      "WARNING:tensorflow:From /home/tinapyp/Dependencies/miniconda3/envs/tfod/lib/python3.10/site-packages/object_detection/builders/dataset_builder.py:235: DatasetV1.map_with_legacy_function (from tensorflow.python.data.ops.dataset_ops) is deprecated and will be removed in a future version.\n",
      "Instructions for updating:\n",
      "Use `tf.data.Dataset.map()\n",
      "W0525 11:28:33.752252 129003168306688 deprecation.py:364] From /home/tinapyp/Dependencies/miniconda3/envs/tfod/lib/python3.10/site-packages/object_detection/builders/dataset_builder.py:235: DatasetV1.map_with_legacy_function (from tensorflow.python.data.ops.dataset_ops) is deprecated and will be removed in a future version.\n",
      "Instructions for updating:\n",
      "Use `tf.data.Dataset.map()\n",
      "WARNING:tensorflow:From /home/tinapyp/Dependencies/miniconda3/envs/tfod/lib/python3.10/site-packages/tensorflow/python/util/dispatch.py:1176: sparse_to_dense (from tensorflow.python.ops.sparse_ops) is deprecated and will be removed in a future version.\n",
      "Instructions for updating:\n",
      "Create a `tf.sparse.SparseTensor` and use `tf.sparse.to_dense` instead.\n",
      "W0525 11:28:36.219339 129003168306688 deprecation.py:364] From /home/tinapyp/Dependencies/miniconda3/envs/tfod/lib/python3.10/site-packages/tensorflow/python/util/dispatch.py:1176: sparse_to_dense (from tensorflow.python.ops.sparse_ops) is deprecated and will be removed in a future version.\n",
      "Instructions for updating:\n",
      "Create a `tf.sparse.SparseTensor` and use `tf.sparse.to_dense` instead.\n",
      "WARNING:tensorflow:From /home/tinapyp/Dependencies/miniconda3/envs/tfod/lib/python3.10/site-packages/tensorflow/python/util/dispatch.py:1176: to_float (from tensorflow.python.ops.math_ops) is deprecated and will be removed in a future version.\n",
      "Instructions for updating:\n",
      "Use `tf.cast` instead.\n",
      "W0525 11:28:37.130649 129003168306688 deprecation.py:364] From /home/tinapyp/Dependencies/miniconda3/envs/tfod/lib/python3.10/site-packages/tensorflow/python/util/dispatch.py:1176: to_float (from tensorflow.python.ops.math_ops) is deprecated and will be removed in a future version.\n",
      "Instructions for updating:\n",
      "Use `tf.cast` instead.\n",
      "INFO:tensorflow:Waiting for new checkpoint at Tensorflow/workspace/models/EfficientDet_tune\n",
      "I0525 11:28:38.718048 129003168306688 checkpoint_utils.py:168] Waiting for new checkpoint at Tensorflow/workspace/models/EfficientDet_tune\n",
      "INFO:tensorflow:Found new checkpoint at Tensorflow/workspace/models/EfficientDet_tune/ckpt-3\n",
      "I0525 11:28:38.718543 129003168306688 checkpoint_utils.py:177] Found new checkpoint at Tensorflow/workspace/models/EfficientDet_tune/ckpt-3\n",
      "/home/tinapyp/Dependencies/miniconda3/envs/tfod/lib/python3.10/site-packages/keras/src/backend.py:452: UserWarning: `tf.keras.backend.set_learning_phase` is deprecated and will be removed after 2020-10-11. To update it, simply pass a True/False value to the `training` argument of the `__call__` method of your layer or model.\n",
      "  warnings.warn(\n",
      "I0525 11:28:42.914963 129003168306688 api.py:460] feature_map_spatial_dims: [(64, 64), (32, 32), (16, 16), (8, 8), (4, 4)]\n",
      "I0525 11:28:52.392767 129003168306688 api.py:460] feature_map_spatial_dims: [(64, 64), (32, 32), (16, 16), (8, 8), (4, 4)]\n",
      "WARNING:tensorflow:From /home/tinapyp/Dependencies/miniconda3/envs/tfod/lib/python3.10/site-packages/tensorflow/python/util/dispatch.py:1176: to_int64 (from tensorflow.python.ops.math_ops) is deprecated and will be removed in a future version.\n",
      "Instructions for updating:\n",
      "Use `tf.cast` instead.\n",
      "W0525 11:28:56.091404 129003168306688 deprecation.py:364] From /home/tinapyp/Dependencies/miniconda3/envs/tfod/lib/python3.10/site-packages/tensorflow/python/util/dispatch.py:1176: to_int64 (from tensorflow.python.ops.math_ops) is deprecated and will be removed in a future version.\n",
      "Instructions for updating:\n",
      "Use `tf.cast` instead.\n",
      "INFO:tensorflow:Finished eval step 0\n",
      "I0525 11:28:56.102494 129003168306688 model_lib_v2.py:966] Finished eval step 0\n",
      "WARNING:tensorflow:From /home/tinapyp/Dependencies/miniconda3/envs/tfod/lib/python3.10/site-packages/tensorflow/python/autograph/impl/api.py:460: py_func (from tensorflow.python.ops.script_ops) is deprecated and will be removed in a future version.\n",
      "Instructions for updating:\n",
      "tf.py_func is deprecated in TF V2. Instead, there are two\n",
      "    options available in V2.\n",
      "    - tf.py_function takes a python function which manipulates tf eager\n",
      "    tensors instead of numpy arrays. It's easy to convert a tf eager tensor to\n",
      "    an ndarray (just call tensor.numpy()) but having access to eager tensors\n",
      "    means `tf.py_function`s can use accelerators such as GPUs as well as\n",
      "    being differentiable using a gradient tape.\n",
      "    - tf.numpy_function maintains the semantics of the deprecated tf.py_func\n",
      "    (it is not differentiable, and manipulates numpy arrays). It drops the\n",
      "    stateful argument making all functions stateful.\n",
      "    \n",
      "W0525 11:28:56.197329 129003168306688 deprecation.py:364] From /home/tinapyp/Dependencies/miniconda3/envs/tfod/lib/python3.10/site-packages/tensorflow/python/autograph/impl/api.py:460: py_func (from tensorflow.python.ops.script_ops) is deprecated and will be removed in a future version.\n",
      "Instructions for updating:\n",
      "tf.py_func is deprecated in TF V2. Instead, there are two\n",
      "    options available in V2.\n",
      "    - tf.py_function takes a python function which manipulates tf eager\n",
      "    tensors instead of numpy arrays. It's easy to convert a tf eager tensor to\n",
      "    an ndarray (just call tensor.numpy()) but having access to eager tensors\n",
      "    means `tf.py_function`s can use accelerators such as GPUs as well as\n",
      "    being differentiable using a gradient tape.\n",
      "    - tf.numpy_function maintains the semantics of the deprecated tf.py_func\n",
      "    (it is not differentiable, and manipulates numpy arrays). It drops the\n",
      "    stateful argument making all functions stateful.\n",
      "    \n",
      "INFO:tensorflow:Finished eval step 100\n",
      "I0525 11:29:06.220849 129003168306688 model_lib_v2.py:966] Finished eval step 100\n",
      "INFO:tensorflow:Performing evaluation on 180 images.\n",
      "I0525 11:29:13.350936 129003168306688 coco_evaluation.py:293] Performing evaluation on 180 images.\n",
      "creating index...\n",
      "index created!\n",
      "INFO:tensorflow:Loading and preparing annotation results...\n",
      "I0525 11:29:13.351953 129003168306688 coco_tools.py:116] Loading and preparing annotation results...\n",
      "INFO:tensorflow:DONE (t=0.01s)\n",
      "I0525 11:29:13.362278 129003168306688 coco_tools.py:138] DONE (t=0.01s)\n",
      "creating index...\n",
      "index created!\n",
      "Running per image evaluation...\n",
      "Evaluate annotation type *bbox*\n",
      "DONE (t=0.34s).\n",
      "Accumulating evaluation results...\n",
      "DONE (t=0.13s).\n",
      " Average Precision  (AP) @[ IoU=0.50:0.95 | area=   all | maxDets=100 ] = 0.246\n",
      " Average Precision  (AP) @[ IoU=0.50      | area=   all | maxDets=100 ] = 0.441\n",
      " Average Precision  (AP) @[ IoU=0.75      | area=   all | maxDets=100 ] = 0.253\n",
      " Average Precision  (AP) @[ IoU=0.50:0.95 | area= small | maxDets=100 ] = -1.000\n",
      " Average Precision  (AP) @[ IoU=0.50:0.95 | area=medium | maxDets=100 ] = -1.000\n",
      " Average Precision  (AP) @[ IoU=0.50:0.95 | area= large | maxDets=100 ] = 0.246\n",
      " Average Recall     (AR) @[ IoU=0.50:0.95 | area=   all | maxDets=  1 ] = 0.588\n",
      " Average Recall     (AR) @[ IoU=0.50:0.95 | area=   all | maxDets= 10 ] = 0.621\n",
      " Average Recall     (AR) @[ IoU=0.50:0.95 | area=   all | maxDets=100 ] = 0.624\n",
      " Average Recall     (AR) @[ IoU=0.50:0.95 | area= small | maxDets=100 ] = -1.000\n",
      " Average Recall     (AR) @[ IoU=0.50:0.95 | area=medium | maxDets=100 ] = -1.000\n",
      " Average Recall     (AR) @[ IoU=0.50:0.95 | area= large | maxDets=100 ] = 0.624\n",
      "INFO:tensorflow:Eval metrics at step 2000\n",
      "I0525 11:29:13.854776 129003168306688 model_lib_v2.py:1015] Eval metrics at step 2000\n",
      "INFO:tensorflow:\t+ DetectionBoxes_Precision/mAP: 0.246464\n",
      "I0525 11:29:13.858557 129003168306688 model_lib_v2.py:1018] \t+ DetectionBoxes_Precision/mAP: 0.246464\n",
      "INFO:tensorflow:\t+ DetectionBoxes_Precision/mAP@.50IOU: 0.440928\n",
      "I0525 11:29:13.859184 129003168306688 model_lib_v2.py:1018] \t+ DetectionBoxes_Precision/mAP@.50IOU: 0.440928\n",
      "INFO:tensorflow:\t+ DetectionBoxes_Precision/mAP@.75IOU: 0.252837\n",
      "I0525 11:29:13.859660 129003168306688 model_lib_v2.py:1018] \t+ DetectionBoxes_Precision/mAP@.75IOU: 0.252837\n",
      "INFO:tensorflow:\t+ DetectionBoxes_Precision/mAP (small): -1.000000\n",
      "I0525 11:29:13.860072 129003168306688 model_lib_v2.py:1018] \t+ DetectionBoxes_Precision/mAP (small): -1.000000\n",
      "INFO:tensorflow:\t+ DetectionBoxes_Precision/mAP (medium): -1.000000\n",
      "I0525 11:29:13.860457 129003168306688 model_lib_v2.py:1018] \t+ DetectionBoxes_Precision/mAP (medium): -1.000000\n",
      "INFO:tensorflow:\t+ DetectionBoxes_Precision/mAP (large): 0.246488\n",
      "I0525 11:29:13.860848 129003168306688 model_lib_v2.py:1018] \t+ DetectionBoxes_Precision/mAP (large): 0.246488\n",
      "INFO:tensorflow:\t+ DetectionBoxes_Recall/AR@1: 0.588333\n",
      "I0525 11:29:13.861227 129003168306688 model_lib_v2.py:1018] \t+ DetectionBoxes_Recall/AR@1: 0.588333\n",
      "INFO:tensorflow:\t+ DetectionBoxes_Recall/AR@10: 0.620556\n",
      "I0525 11:29:13.861601 129003168306688 model_lib_v2.py:1018] \t+ DetectionBoxes_Recall/AR@10: 0.620556\n",
      "INFO:tensorflow:\t+ DetectionBoxes_Recall/AR@100: 0.624444\n",
      "I0525 11:29:13.861968 129003168306688 model_lib_v2.py:1018] \t+ DetectionBoxes_Recall/AR@100: 0.624444\n",
      "INFO:tensorflow:\t+ DetectionBoxes_Recall/AR@100 (small): -1.000000\n",
      "I0525 11:29:13.862316 129003168306688 model_lib_v2.py:1018] \t+ DetectionBoxes_Recall/AR@100 (small): -1.000000\n",
      "INFO:tensorflow:\t+ DetectionBoxes_Recall/AR@100 (medium): -1.000000\n",
      "I0525 11:29:13.862662 129003168306688 model_lib_v2.py:1018] \t+ DetectionBoxes_Recall/AR@100 (medium): -1.000000\n",
      "INFO:tensorflow:\t+ DetectionBoxes_Recall/AR@100 (large): 0.624444\n",
      "I0525 11:29:13.863033 129003168306688 model_lib_v2.py:1018] \t+ DetectionBoxes_Recall/AR@100 (large): 0.624444\n",
      "INFO:tensorflow:\t+ Loss/localization_loss: 0.003984\n",
      "I0525 11:29:13.863362 129003168306688 model_lib_v2.py:1018] \t+ Loss/localization_loss: 0.003984\n",
      "INFO:tensorflow:\t+ Loss/classification_loss: 0.506594\n",
      "I0525 11:29:13.863663 129003168306688 model_lib_v2.py:1018] \t+ Loss/classification_loss: 0.506594\n",
      "INFO:tensorflow:\t+ Loss/regularization_loss: 0.030558\n",
      "I0525 11:29:13.863978 129003168306688 model_lib_v2.py:1018] \t+ Loss/regularization_loss: 0.030558\n",
      "INFO:tensorflow:\t+ Loss/total_loss: 0.541136\n",
      "I0525 11:29:13.864271 129003168306688 model_lib_v2.py:1018] \t+ Loss/total_loss: 0.541136\n",
      "INFO:tensorflow:Waiting for new checkpoint at Tensorflow/workspace/models/EfficientDet_tune\n",
      "I0525 11:33:38.818010 129003168306688 checkpoint_utils.py:168] Waiting for new checkpoint at Tensorflow/workspace/models/EfficientDet_tune\n"
     ]
    }
   ],
   "source": [
    "!{command}"
   ]
  },
  {
   "cell_type": "markdown",
   "metadata": {
    "id": "orvRk02UpfDI"
   },
   "source": [
    "# 8. Load Train Model From Checkpoint"
   ]
  },
  {
   "cell_type": "code",
   "execution_count": 21,
   "metadata": {
    "id": "8TYk4_oIpfDI"
   },
   "outputs": [],
   "source": [
    "import os\n",
    "import tensorflow as tf\n",
    "from object_detection.utils import label_map_util\n",
    "from object_detection.utils import visualization_utils as viz_utils\n",
    "from object_detection.builders import model_builder\n",
    "from object_detection.utils import config_util"
   ]
  },
  {
   "cell_type": "code",
   "execution_count": 22,
   "metadata": {
    "id": "tDnQg-cYpfDI"
   },
   "outputs": [],
   "source": [
    "# Load pipeline config and build a detection model\n",
    "configs = config_util.get_configs_from_pipeline_file(files['PIPELINE_CONFIG'])\n",
    "detection_model = model_builder.build(model_config=configs['model'], is_training=False)\n",
    "\n",
    "# Restore checkpoint\n",
    "ckpt = tf.compat.v2.train.Checkpoint(model=detection_model)\n",
    "ckpt.restore(os.path.join(paths['CHECKPOINT_PATH'], 'ckpt-3')).expect_partial()\n",
    "\n",
    "@tf.function\n",
    "def detect_fn(image):\n",
    "    image, shapes = detection_model.preprocess(image)\n",
    "    prediction_dict = detection_model.predict(image, shapes)\n",
    "    detections = detection_model.postprocess(prediction_dict, shapes)\n",
    "    return detections"
   ]
  },
  {
   "cell_type": "markdown",
   "metadata": {
    "id": "0EmsmbBZpfDI"
   },
   "source": [
    "# 9. Detect from an Image"
   ]
  },
  {
   "cell_type": "code",
   "execution_count": 23,
   "metadata": {
    "id": "Y_MKiuZ4pfDI"
   },
   "outputs": [],
   "source": [
    "import cv2 \n",
    "import numpy as np\n",
    "from matplotlib import pyplot as plt\n",
    "%matplotlib inline"
   ]
  },
  {
   "cell_type": "code",
   "execution_count": 24,
   "metadata": {
    "id": "cBDbIhNapfDI"
   },
   "outputs": [],
   "source": [
    "category_index = label_map_util.create_category_index_from_labelmap(files['LABELMAP'])"
   ]
  },
  {
   "cell_type": "code",
   "execution_count": 28,
   "metadata": {
    "id": "Lx3crOhOzITB"
   },
   "outputs": [],
   "source": [
    "IMAGE_PATH = \"/home/tinapyp/Work/FastWork/tfod-efficientdet2/data/raw/data uji/1_object/IMG_2510.jpg\""
   ]
  },
  {
   "cell_type": "code",
   "execution_count": 33,
   "metadata": {
    "colab": {
     "base_uri": "https://localhost:8080/",
     "height": 269
    },
    "id": "Tpzn1SMry1yK",
    "outputId": "c392a2c5-10fe-4fc4-9998-a1d4c7db2bd3"
   },
   "outputs": [
    {
     "data": {
      "image/png": "[encoded data removed]",
      "text/plain": [
       "<Figure size 640x480 with 1 Axes>"
      ]
     },
     "metadata": {},
     "output_type": "display_data"
    }
   ],
   "source": [
    "img = cv2.imread(IMAGE_PATH)\n",
    "image_np = np.array(img)\n",
    "\n",
    "input_tensor = tf.convert_to_tensor(np.expand_dims(image_np, 0), dtype=tf.float32)\n",
    "detections = detect_fn(input_tensor)\n",
    "\n",
    "num_detections = int(detections.pop('num_detections'))\n",
    "detections = {key: value[0, :num_detections].numpy()\n",
    "              for key, value in detections.items()}\n",
    "detections['num_detections'] = num_detections\n",
    "\n",
    "# detection_classes should be ints.\n",
    "detections['detection_classes'] = detections['detection_classes'].astype(np.int64)\n",
    "\n",
    "label_id_offset = 1\n",
    "image_np_with_detections = image_np.copy()\n",
    "\n",
    "viz_utils.visualize_boxes_and_labels_on_image_array(\n",
    "            image_np_with_detections,\n",
    "            detections['detection_boxes'],\n",
    "            detections['detection_classes']+label_id_offset,\n",
    "            detections['detection_scores'],\n",
    "            category_index,\n",
    "            use_normalized_coordinates=True,\n",
    "            max_boxes_to_draw=5,\n",
    "            min_score_thresh=.4,\n",
    "            agnostic_mode=False)\n",
    "\n",
    "plt.imshow(cv2.cvtColor(image_np_with_detections, cv2.COLOR_BGR2RGB))\n",
    "plt.show()"
   ]
  },
  {
   "cell_type": "markdown",
   "metadata": {
    "id": "IsNAaYAo0WVL"
   },
   "source": [
    "# Real Time Detections from using Webcam"
   ]
  },
  {
   "cell_type": "code",
   "execution_count": null,
   "metadata": {},
   "outputs": [],
   "source": [
    "!pip uninstall opencv-python-headless -y"
   ]
  },
  {
   "cell_type": "code",
   "execution_count": null,
   "metadata": {
    "id": "o_grs6OGpfDJ"
   },
   "outputs": [],
   "source": [
    "cap = cv2.VideoCapture(0)\n",
    "width = int(cap.get(cv2.CAP_PROP_FRAME_WIDTH))\n",
    "height = int(cap.get(cv2.CAP_PROP_FRAME_HEIGHT))\n",
    "\n",
    "while cap.isOpened(): \n",
    "    ret, frame = cap.read()\n",
    "    image_np = np.array(frame)\n",
    "    \n",
    "    input_tensor = tf.convert_to_tensor(np.expand_dims(image_np, 0), dtype=tf.float32)\n",
    "    detections = detect_fn(input_tensor)\n",
    "    \n",
    "    num_detections = int(detections.pop('num_detections'))\n",
    "    detections = {key: value[0, :num_detections].numpy()\n",
    "                  for key, value in detections.items()}\n",
    "    detections['num_detections'] = num_detections\n",
    "\n",
    "    # detection_classes should be ints.\n",
    "    detections['detection_classes'] = detections['detection_classes'].astype(np.int64)\n",
    "\n",
    "    label_id_offset = 1\n",
    "    image_np_with_detections = image_np.copy()\n",
    "\n",
    "    viz_utils.visualize_boxes_and_labels_on_image_array(\n",
    "                image_np_with_detections,\n",
    "                detections['detection_boxes'],\n",
    "                detections['detection_classes']+label_id_offset,\n",
    "                detections['detection_scores'],\n",
    "                category_index,\n",
    "                use_normalized_coordinates=True,\n",
    "                max_boxes_to_draw=5,\n",
    "                min_score_thresh=.8,\n",
    "                agnostic_mode=False)\n",
    "\n",
    "    cv2.imshow('object detection',  cv2.resize(image_np_with_detections, (800, 600)))\n",
    "    \n",
    "    if cv2.waitKey(10) & 0xFF == ord('q'):\n",
    "        cap.release()\n",
    "        cv2.destroyAllWindows()\n",
    "        break"
   ]
  },
  {
   "cell_type": "markdown",
   "metadata": {
    "id": "rzlM4jt0pfDJ"
   },
   "source": [
    "# Freezing the Graph"
   ]
  },
  {
   "cell_type": "code",
   "execution_count": 45,
   "metadata": {
    "id": "n4olHB2npfDJ"
   },
   "outputs": [],
   "source": [
    "FREEZE_SCRIPT = os.path.join(paths['APIMODEL_PATH'], 'research', 'object_detection', 'exporter_main_v2.py ')"
   ]
  },
  {
   "cell_type": "code",
   "execution_count": 46,
   "metadata": {
    "id": "0AjO93QDpfDJ"
   },
   "outputs": [],
   "source": [
    "command = \"python {} --input_type=image_tensor --pipeline_config_path={} --trained_checkpoint_dir={} --output_directory={}\".format(FREEZE_SCRIPT ,files['PIPELINE_CONFIG'], paths['CHECKPOINT_PATH'], paths['OUTPUT_PATH'])"
   ]
  },
  {
   "cell_type": "code",
   "execution_count": 47,
   "metadata": {
    "colab": {
     "base_uri": "https://localhost:8080/"
    },
    "id": "F6Lsp3tCpfDJ",
    "outputId": "c3828529-bf06-4df5-d7f3-145890ec3edd"
   },
   "outputs": [
    {
     "name": "stdout",
     "output_type": "stream",
     "text": [
      "python ../src/models/research/object_detection/exporter_main_v2.py  --input_type=image_tensor --pipeline_config_path=../models/tuned-model/pipeline.config --trained_checkpoint_dir=../models/tuned-model --output_directory=../models/tuned-model/export\n"
     ]
    }
   ],
   "source": [
    "print(command)"
   ]
  },
  {
   "cell_type": "code",
   "execution_count": 37,
   "metadata": {
    "colab": {
     "base_uri": "https://localhost:8080/"
    },
    "id": "1Sw1ULgHpfDJ",
    "outputId": "6fd441e1-9fc9-4889-d072-3395c21e40b6"
   },
   "outputs": [
    {
     "name": "stdout",
     "output_type": "stream",
     "text": [
      "2024-05-25 11:25:40.792534: I tensorflow/tsl/cuda/cudart_stub.cc:28] Could not find cuda drivers on your machine, GPU will not be used.\n",
      "2024-05-25 11:25:41.007491: I tensorflow/tsl/cuda/cudart_stub.cc:28] Could not find cuda drivers on your machine, GPU will not be used.\n",
      "2024-05-25 11:25:41.008371: I tensorflow/core/platform/cpu_feature_guard.cc:182] This TensorFlow binary is optimized to use available CPU instructions in performance-critical operations.\n",
      "To enable the following instructions: AVX2 FMA, in other operations, rebuild TensorFlow with the appropriate compiler flags.\n",
      "2024-05-25 11:25:42.024355: W tensorflow/compiler/tf2tensorrt/utils/py_utils.cc:38] TF-TRT Warning: Could not find TensorRT\n",
      "I0525 11:25:43.906961 126730998027776 ssd_efficientnet_bifpn_feature_extractor.py:161] EfficientDet EfficientNet backbone version: efficientnet-b0\n",
      "I0525 11:25:43.907092 126730998027776 ssd_efficientnet_bifpn_feature_extractor.py:163] EfficientDet BiFPN num filters: 64\n",
      "I0525 11:25:43.907127 126730998027776 ssd_efficientnet_bifpn_feature_extractor.py:164] EfficientDet BiFPN num iterations: 3\n",
      "I0525 11:25:43.909860 126730998027776 efficientnet_model.py:143] round_filter input=32 output=32\n",
      "I0525 11:25:43.930499 126730998027776 efficientnet_model.py:143] round_filter input=32 output=32\n",
      "I0525 11:25:43.930613 126730998027776 efficientnet_model.py:143] round_filter input=16 output=16\n",
      "I0525 11:25:43.988936 126730998027776 efficientnet_model.py:143] round_filter input=16 output=16\n",
      "I0525 11:25:43.989062 126730998027776 efficientnet_model.py:143] round_filter input=24 output=24\n",
      "I0525 11:25:44.129149 126730998027776 efficientnet_model.py:143] round_filter input=24 output=24\n",
      "I0525 11:25:44.129272 126730998027776 efficientnet_model.py:143] round_filter input=40 output=40\n",
      "I0525 11:25:44.258384 126730998027776 efficientnet_model.py:143] round_filter input=40 output=40\n",
      "I0525 11:25:44.258492 126730998027776 efficientnet_model.py:143] round_filter input=80 output=80\n",
      "I0525 11:25:44.442101 126730998027776 efficientnet_model.py:143] round_filter input=80 output=80\n",
      "I0525 11:25:44.442207 126730998027776 efficientnet_model.py:143] round_filter input=112 output=112\n",
      "I0525 11:25:44.641549 126730998027776 efficientnet_model.py:143] round_filter input=112 output=112\n",
      "I0525 11:25:44.641658 126730998027776 efficientnet_model.py:143] round_filter input=192 output=192\n",
      "I0525 11:25:44.887165 126730998027776 efficientnet_model.py:143] round_filter input=192 output=192\n",
      "I0525 11:25:44.887283 126730998027776 efficientnet_model.py:143] round_filter input=320 output=320\n",
      "I0525 11:25:44.951213 126730998027776 efficientnet_model.py:143] round_filter input=1280 output=1280\n",
      "I0525 11:25:44.993216 126730998027776 efficientnet_model.py:453] Building model efficientnet with params ModelConfig(width_coefficient=1.0, depth_coefficient=1.0, resolution=224, dropout_rate=0.2, blocks=(BlockConfig(input_filters=32, output_filters=16, kernel_size=3, num_repeat=1, expand_ratio=1, strides=(1, 1), se_ratio=0.25, id_skip=True, fused_conv=False, conv_type='depthwise'), BlockConfig(input_filters=16, output_filters=24, kernel_size=3, num_repeat=2, expand_ratio=6, strides=(2, 2), se_ratio=0.25, id_skip=True, fused_conv=False, conv_type='depthwise'), BlockConfig(input_filters=24, output_filters=40, kernel_size=5, num_repeat=2, expand_ratio=6, strides=(2, 2), se_ratio=0.25, id_skip=True, fused_conv=False, conv_type='depthwise'), BlockConfig(input_filters=40, output_filters=80, kernel_size=3, num_repeat=3, expand_ratio=6, strides=(2, 2), se_ratio=0.25, id_skip=True, fused_conv=False, conv_type='depthwise'), BlockConfig(input_filters=80, output_filters=112, kernel_size=5, num_repeat=3, expand_ratio=6, strides=(1, 1), se_ratio=0.25, id_skip=True, fused_conv=False, conv_type='depthwise'), BlockConfig(input_filters=112, output_filters=192, kernel_size=5, num_repeat=4, expand_ratio=6, strides=(2, 2), se_ratio=0.25, id_skip=True, fused_conv=False, conv_type='depthwise'), BlockConfig(input_filters=192, output_filters=320, kernel_size=3, num_repeat=1, expand_ratio=6, strides=(1, 1), se_ratio=0.25, id_skip=True, fused_conv=False, conv_type='depthwise')), stem_base_filters=32, top_base_filters=1280, activation='simple_swish', batch_norm='default', bn_momentum=0.99, bn_epsilon=0.001, weight_decay=5e-06, drop_connect_rate=0.2, depth_divisor=8, min_depth=None, use_se=True, input_channels=3, num_classes=1000, model_name='efficientnet', rescale_input=False, data_format='channels_last', dtype='float32')\n",
      "WARNING:tensorflow:From /home/tinapyp/Dependencies/miniconda3/envs/tfod/lib/python3.10/site-packages/tensorflow/python/autograph/impl/api.py:459: calling map_fn_v2 (from tensorflow.python.ops.map_fn) with back_prop=False is deprecated and will be removed in a future version.\n",
      "Instructions for updating:\n",
      "back_prop=False is deprecated. Consider using tf.stop_gradient instead.\n",
      "Instead of:\n",
      "results = tf.map_fn(fn, elems, back_prop=False)\n",
      "Use:\n",
      "results = tf.nest.map_structure(tf.stop_gradient, tf.map_fn(fn, elems))\n",
      "W0525 11:25:45.728434 126730998027776 deprecation.py:641] From /home/tinapyp/Dependencies/miniconda3/envs/tfod/lib/python3.10/site-packages/tensorflow/python/autograph/impl/api.py:459: calling map_fn_v2 (from tensorflow.python.ops.map_fn) with back_prop=False is deprecated and will be removed in a future version.\n",
      "Instructions for updating:\n",
      "back_prop=False is deprecated. Consider using tf.stop_gradient instead.\n",
      "Instead of:\n",
      "results = tf.map_fn(fn, elems, back_prop=False)\n",
      "Use:\n",
      "results = tf.nest.map_structure(tf.stop_gradient, tf.map_fn(fn, elems))\n",
      "I0525 11:25:48.396496 126730998027776 api.py:460] feature_map_spatial_dims: [(64, 64), (32, 32), (16, 16), (8, 8), (4, 4)]\n",
      "I0525 11:25:55.831012 126730998027776 api.py:460] feature_map_spatial_dims: [(64, 64), (32, 32), (16, 16), (8, 8), (4, 4)]\n",
      "I0525 11:25:58.550651 126730998027776 signature_serialization.py:148] Function `call_func` contains input name(s) resource with unsupported characters which will be renamed to weightsharedconvolutionalboxpredictor_classpredictiontower_conv2d_2_batchnorm_feature_4_fusedbatchnormv3_readvariableop_1_resource in the SavedModel.\n",
      "I0525 11:26:00.157783 126730998027776 api.py:460] feature_map_spatial_dims: [(64, 64), (32, 32), (16, 16), (8, 8), (4, 4)]\n",
      "WARNING:tensorflow:Skipping full serialization of Keras layer <object_detection.meta_architectures.ssd_meta_arch.SSDMetaArch object at 0x7342505b1a80>, because it is not built.\n",
      "W0525 11:26:02.209534 126730998027776 save_impl.py:66] Skipping full serialization of Keras layer <object_detection.meta_architectures.ssd_meta_arch.SSDMetaArch object at 0x7342505b1a80>, because it is not built.\n",
      "I0525 11:26:19.125071 126730998027776 save.py:274] Found untraced functions such as WeightSharedConvolutionalBoxPredictor_layer_call_fn, WeightSharedConvolutionalBoxPredictor_layer_call_and_return_conditional_losses, WeightSharedConvolutionalBoxHead_layer_call_fn, WeightSharedConvolutionalBoxHead_layer_call_and_return_conditional_losses, WeightSharedConvolutionalClassHead_layer_call_fn while saving (showing 5 of 437). These functions will not be directly callable after loading.\n",
      "INFO:tensorflow:Assets written to: Tensorflow/workspace/models/EfficientDet_tune/export/saved_model/assets\n",
      "I0525 11:26:31.878703 126730998027776 builder_impl.py:804] Assets written to: Tensorflow/workspace/models/EfficientDet_tune/export/saved_model/assets\n",
      "I0525 11:26:32.311629 126730998027776 fingerprinting_utils.py:48] Writing fingerprint to Tensorflow/workspace/models/EfficientDet_tune/export/saved_model/fingerprint.pb\n",
      "INFO:tensorflow:Writing pipeline config file to Tensorflow/workspace/models/EfficientDet_tune/export/pipeline.config\n",
      "I0525 11:26:33.269775 126730998027776 config_util.py:253] Writing pipeline config file to Tensorflow/workspace/models/EfficientDet_tune/export/pipeline.config\n"
     ]
    }
   ],
   "source": [
    "!{command}"
   ]
  },
  {
   "cell_type": "markdown",
   "metadata": {
    "id": "5NQqZRdA21Uc"
   },
   "source": [
    "# Zip and Export Models "
   ]
  },
  {
   "cell_type": "code",
   "execution_count": 38,
   "metadata": {
    "id": "tTVTGCQp2ZJJ"
   },
   "outputs": [],
   "source": [
    "!tar -czf models.tar.gz {paths['CHECKPOINT_PATH']}"
   ]
  },
  {
   "cell_type": "code",
   "execution_count": null,
   "metadata": {},
   "outputs": [],
   "source": []
  }
 ],
 "metadata": {
  "accelerator": "GPU",
  "colab": {
   "name": "3. Training and Detection.ipynb",
   "provenance": []
  },
  "kernelspec": {
   "display_name": "tfod",
   "language": "python",
   "name": "python3"
  },
  "language_info": {
   "codemirror_mode": {
    "name": "ipython",
    "version": 3
   },
   "file_extension": ".py",
   "mimetype": "text/x-python",
   "name": "python",
   "nbconvert_exporter": "python",
   "pygments_lexer": "ipython3",
   "version": "3.10.0"
  }
 },
 "nbformat": 4,
 "nbformat_minor": 1
}
