{
 "cells": [
  {
   "cell_type": "markdown",
   "metadata": {},
   "source": [
    "# 1. Import Dependencies"
   ]
  },
  {
   "cell_type": "code",
   "execution_count": 18,
   "metadata": {},
   "outputs": [],
   "source": [
    "import glob"
   ]
  },
  {
   "cell_type": "markdown",
   "metadata": {},
   "source": [
    "# 2. Image Labelling"
   ]
  },
  {
   "cell_type": "code",
   "execution_count": 2,
   "metadata": {},
   "outputs": [],
   "source": [
    "from src.image_preprocessing import process_image"
   ]
  },
  {
   "cell_type": "markdown",
   "metadata": {},
   "source": [
    "### biskuit-selamat"
   ]
  },
  {
   "cell_type": "code",
   "execution_count": 3,
   "metadata": {},
   "outputs": [],
   "source": [
    "image_paths = glob.glob('data/interim/biskuit-selamat/*.jpg')"
   ]
  },
  {
   "cell_type": "code",
   "execution_count": 4,
   "metadata": {},
   "outputs": [],
   "source": [
    "mask_name = \"biskuit-selamat\"\n",
    "\n",
    "for path in image_paths:\n",
    "    output_xml_path = path.split(\".\")[0] + \".xml\"\n",
    "    process_image(path, output_xml_path, mask_name)"
   ]
  },
  {
   "cell_type": "markdown",
   "metadata": {},
   "source": [
    "### chitato-lite"
   ]
  },
  {
   "cell_type": "code",
   "execution_count": 5,
   "metadata": {},
   "outputs": [],
   "source": [
    "image_paths = glob.glob('data/interim/chitato-lite/*.jpg')\n",
    "mask_name = \"chitato-lite\"\n",
    "\n",
    "for path in image_paths:\n",
    "    output_xml_path = path.split(\".\")[0] + \".xml\"\n",
    "    process_image(path, output_xml_path, mask_name)"
   ]
  },
  {
   "cell_type": "markdown",
   "metadata": {},
   "source": [
    "### chitato-sapi"
   ]
  },
  {
   "cell_type": "code",
   "execution_count": 6,
   "metadata": {},
   "outputs": [],
   "source": [
    "image_paths = glob.glob('data/interim/chitato-sapi/*.jpg')\n",
    "mask_name = \"chitato-sapi\"\n",
    "\n",
    "for path in image_paths:\n",
    "    output_xml_path = path.split(\".\")[0] + \".xml\"\n",
    "    process_image(path, output_xml_path, mask_name)"
   ]
  },
  {
   "cell_type": "markdown",
   "metadata": {},
   "source": [
    "### fitbar"
   ]
  },
  {
   "cell_type": "code",
   "execution_count": 7,
   "metadata": {},
   "outputs": [],
   "source": [
    "image_paths = glob.glob('data/interim/fitbar/*.jpg')\n",
    "mask_name = \"fitbar\"\n",
    "\n",
    "for path in image_paths:\n",
    "    output_xml_path = path.split(\".\")[0] + \".xml\"\n",
    "    process_image(path, output_xml_path, mask_name)"
   ]
  },
  {
   "cell_type": "markdown",
   "metadata": {},
   "source": [
    "### nissin-cracker"
   ]
  },
  {
   "cell_type": "code",
   "execution_count": 8,
   "metadata": {},
   "outputs": [],
   "source": [
    "image_paths = glob.glob('data/interim/nissin-cracker/*.jpg')\n",
    "mask_name = \"nissin-cracker\"\n",
    "\n",
    "for path in image_paths:\n",
    "    output_xml_path = path.split(\".\")[0] + \".xml\"\n",
    "    process_image(path, output_xml_path, mask_name)"
   ]
  },
  {
   "cell_type": "markdown",
   "metadata": {},
   "source": [
    "### pocari"
   ]
  },
  {
   "cell_type": "code",
   "execution_count": 9,
   "metadata": {},
   "outputs": [],
   "source": [
    "image_paths = glob.glob('data/interim/pocari/*.jpg')\n",
    "mask_name = \"pocari\"\n",
    "\n",
    "for path in image_paths:\n",
    "    output_xml_path = path.split(\".\")[0] + \".xml\"\n",
    "    process_image(path, output_xml_path, mask_name)"
   ]
  },
  {
   "cell_type": "markdown",
   "metadata": {},
   "source": [
    "### popmie"
   ]
  },
  {
   "cell_type": "code",
   "execution_count": 10,
   "metadata": {},
   "outputs": [],
   "source": [
    "image_paths = glob.glob('data/interim/popmie/*.jpg')\n",
    "mask_name = \"popmie\"\n",
    "\n",
    "for path in image_paths:\n",
    "    output_xml_path = path.split(\".\")[0] + \".xml\"\n",
    "    process_image(path, output_xml_path, mask_name)"
   ]
  },
  {
   "cell_type": "markdown",
   "metadata": {},
   "source": [
    "### roma-kelapa"
   ]
  },
  {
   "cell_type": "code",
   "execution_count": 11,
   "metadata": {},
   "outputs": [],
   "source": [
    "image_paths = glob.glob('data/interim/roma-kelapa/*.jpg')\n",
    "mask_name = \"roma-kelapa\"\n",
    "\n",
    "for path in image_paths:\n",
    "    output_xml_path = path.split(\".\")[0] + \".xml\"\n",
    "    process_image(path, output_xml_path, mask_name)"
   ]
  },
  {
   "cell_type": "markdown",
   "metadata": {},
   "source": [
    "### teh-botol"
   ]
  },
  {
   "cell_type": "code",
   "execution_count": 12,
   "metadata": {},
   "outputs": [],
   "source": [
    "image_paths = glob.glob('data/interim/teh-botol/*.jpg')\n",
    "mask_name = \"teh-botol\"\n",
    "\n",
    "for path in image_paths:\n",
    "    output_xml_path = path.split(\".\")[0] + \".xml\"\n",
    "    process_image(path, output_xml_path, mask_name)"
   ]
  },
  {
   "cell_type": "markdown",
   "metadata": {},
   "source": [
    "### twist"
   ]
  },
  {
   "cell_type": "code",
   "execution_count": 13,
   "metadata": {},
   "outputs": [],
   "source": [
    "image_paths = glob.glob('data/interim/twist/*.jpg')\n",
    "mask_name = \"twist\"\n",
    "\n",
    "for path in image_paths:\n",
    "    output_xml_path = path.split(\".\")[0] + \".xml\"\n",
    "    process_image(path, output_xml_path, mask_name)"
   ]
  },
  {
   "cell_type": "markdown",
   "metadata": {},
   "source": [
    "## Split data into train test"
   ]
  },
  {
   "cell_type": "code",
   "execution_count": 2,
   "metadata": {},
   "outputs": [],
   "source": [
    "import os\n",
    "import random\n",
    "from src.utils import move_files"
   ]
  },
  {
   "cell_type": "code",
   "execution_count": 2,
   "metadata": {},
   "outputs": [],
   "source": [
    "# Define the source and destination directories\n",
    "source_dir = './data/interim'\n",
    "train_dir = './Tensorflow/workspace/images/train'\n",
    "test_dir = './Tensorflow/workspace/images/test'"
   ]
  },
  {
   "cell_type": "code",
   "execution_count": 3,
   "metadata": {},
   "outputs": [],
   "source": [
    "# List of folder names\n",
    "folder_names = ['biskuit-selamat', 'chitato-lite', 'chitato-sapi', 'fitbar', 'nissin-cracker', 'pocari', 'popmie', 'roma-kelapa', 'teh-botol', 'twist']\n",
    "\n",
    "# Create destination directories if they don't exist\n",
    "os.makedirs(train_dir, exist_ok=True)\n",
    "os.makedirs(test_dir, exist_ok=True)"
   ]
  },
  {
   "cell_type": "code",
   "execution_count": 4,
   "metadata": {},
   "outputs": [
    {
     "name": "stdout",
     "output_type": "stream",
     "text": [
      "Data has been successfully split into train and test sets.\n"
     ]
    }
   ],
   "source": [
    "# Process each folder\n",
    "for folder in folder_names:\n",
    "    folder_path = os.path.join(source_dir, folder)\n",
    "    \n",
    "    # List all jpg files in the folder\n",
    "    all_files = [f for f in os.listdir(folder_path) if f.endswith('.jpg')]\n",
    "    \n",
    "    # Shuffle the list and split into train and test sets\n",
    "    random.shuffle(all_files)\n",
    "    split_index = int(len(all_files) * 0.2)\n",
    "    test_files = all_files[:split_index]\n",
    "    train_files = all_files[split_index:]\n",
    "    \n",
    "    # Move the files to the respective directories\n",
    "    move_files(test_files, folder_path, test_dir)\n",
    "    move_files(train_files, folder_path, train_dir)\n",
    "\n",
    "print(\"Data has been successfully split into train and test sets.\")"
   ]
  },
  {
   "cell_type": "code",
   "execution_count": 3,
   "metadata": {},
   "outputs": [],
   "source": [
    "TRAIN_PATH = '../data/processed/train'\n",
    "TEST_PATH = '../data/processed/test'\n",
    "ARCHIVE_PATH = '../data/processed/archive.tar.gz'"
   ]
  },
  {
   "cell_type": "code",
   "execution_count": 4,
   "metadata": {},
   "outputs": [],
   "source": [
    "!tar -czf {ARCHIVE_PATH} {TRAIN_PATH} {TEST_PATH}"
   ]
  },
  {
   "cell_type": "code",
   "execution_count": null,
   "metadata": {},
   "outputs": [],
   "source": []
  }
 ],
 "metadata": {
  "kernelspec": {
   "display_name": "tfod",
   "language": "python",
   "name": "python3"
  },
  "language_info": {
   "codemirror_mode": {
    "name": "ipython",
    "version": 3
   },
   "file_extension": ".py",
   "mimetype": "text/x-python",
   "name": "python",
   "nbconvert_exporter": "python",
   "pygments_lexer": "ipython3",
   "version": "3.10.0"
  }
 },
 "nbformat": 4,
 "nbformat_minor": 2
}
